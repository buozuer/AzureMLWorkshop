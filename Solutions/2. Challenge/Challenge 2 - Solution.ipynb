{
 "cells": [
  {
   "cell_type": "markdown",
   "metadata": {},
   "source": [
    "# Challenge 2 - Deep Learning"
   ]
  },
  {
   "cell_type": "markdown",
   "metadata": {},
   "source": [
    "In this tutorial, you will train a PyTorch model on the [MNIST](http://yann.lecun.com/exdb/mnist/) dataset using distributed training via Nccl/Gloo across a GPU cluster. "
   ]
  },
  {
   "cell_type": "markdown",
   "metadata": {},
   "source": [
    "## 1. Import Azure ML Python Python SDK"
   ]
  },
  {
   "cell_type": "code",
   "execution_count": 1,
   "metadata": {},
   "outputs": [
    {
     "name": "stderr",
     "output_type": "stream",
     "text": [
      "WARNING - Failure while loading azureml_run_type_providers. Failed to load entrypoint azureml.scriptrun = azureml.core.script_run:ScriptRun._from_run_dto with exception RunType azureml.scriptrun already has a factory, can't add another.\n"
     ]
    },
    {
     "name": "stdout",
     "output_type": "stream",
     "text": [
      "SDK version: 1.0.83\n"
     ]
    }
   ],
   "source": [
    "import azureml.core\n",
    "print(\"SDK version:\", azureml.core.VERSION)"
   ]
  },
  {
   "cell_type": "markdown",
   "metadata": {},
   "source": [
    "## 2. Authentication and initializing Azure Machine Learning Workspace"
   ]
  },
  {
   "cell_type": "markdown",
   "metadata": {},
   "source": [
    "As a first step you have to authenticate against the Azure [Machine Learning Workspace](https://ml.azure.com/). This can be achieved in different ways:\n",
    "\n",
    "1. **Interactive Login Authentication:** The interactive authentication is suitable for local experimentation on your own computer.\n",
    "2. **Azure CLI Authentication:** Azure CLI authentication is suitable if you are already using Azure CLI for managing Azure resources, and want to sign in only once.\n",
    "3. **Managed Service Identity (MSI) Authentication:** The MSI authentication is suitable for automated workflows, for example as part of Azure Devops build.\n",
    "4. **Service Principal Authentication:** The Service Principal authentication is suitable for automated workflows, for example as part of Azure Devops build.\n",
    "\n",
    "For now, we will use the interactive authentication, which is the default mode when using Azure ML SDK. When you connect to your workspace using `Workspace.from_config`, you will get an interactive login dialog."
   ]
  },
  {
   "cell_type": "code",
   "execution_count": 2,
   "metadata": {},
   "outputs": [
    {
     "name": "stderr",
     "output_type": "stream",
     "text": [
      "WARNING - Warning: Falling back to use azure cli login credentials.\n",
      "If you run your code in unattended mode, i.e., where you can't give a user input, then we recommend to use ServicePrincipalAuthentication or MsiAuthentication.\n",
      "Please refer to aka.ms/aml-notebook-auth for different authentication mechanisms in azureml-sdk.\n"
     ]
    }
   ],
   "source": [
    "from azureml.core import Workspace\n",
    "\n",
    "ws = Workspace.from_config()"
   ]
  },
  {
   "cell_type": "code",
   "execution_count": 3,
   "metadata": {
    "scrolled": true
   },
   "outputs": [
    {
     "name": "stdout",
     "output_type": "stream",
     "text": [
      "Workspace name: myworkspace\n",
      "Azure region: westeurope\n",
      "Subscription id: 558bd446-4212-46a2-908c-9ab0a628705e\n",
      "Resource group: azure-ml-service-rg\n"
     ]
    }
   ],
   "source": [
    "print(\"Workspace name: \" + ws.name, \n",
    "      \"Azure region: \" + ws.location, \n",
    "      \"Subscription id: \" + ws.subscription_id, \n",
    "      \"Resource group: \" + ws.resource_group, sep = '\\n')"
   ]
  },
  {
   "cell_type": "markdown",
   "metadata": {},
   "source": [
    "## 3. Upload and register data"
   ]
  },
  {
   "cell_type": "markdown",
   "metadata": {},
   "source": [
    "Every workspace comes with a default [datastore](https://docs.microsoft.com/en-us/azure/machine-learning/service/how-to-access-data) (and you can register more) which is backed by the Azure blob storage account associated with the workspace. We can use it to transfer data from local to the cloud, and create Dataset from it. We will now upload the Iris data to the default datastore (blob) within your workspace.\n",
    "\n",
    "By creating a dataset, you create a reference to the data source location. If you applied any subsetting transformations to the dataset, they will be stored in the dataset as well. The data remains in its existing location, so no extra storage cost is incurred."
   ]
  },
  {
   "cell_type": "code",
   "execution_count": null,
   "metadata": {
    "scrolled": true
   },
   "outputs": [],
   "source": [
    "# List all datastores registered in the current workspace\n",
    "datastores = ws.datastores\n",
    "for name, datastore in datastores.items():\n",
    "    print(name, datastore.datastore_type)"
   ]
  },
  {
   "cell_type": "markdown",
   "metadata": {},
   "source": [
    "For this challenge we will use the [default datastore](https://docs.microsoft.com/en-us/azure/machine-learning/how-to-access-data#get-datastores-from-your-workspace) that comes with the Azure Machine Learning Workspace."
   ]
  },
  {
   "cell_type": "code",
   "execution_count": null,
   "metadata": {},
   "outputs": [],
   "source": [
    "# get the default datastore\n",
    "datastore = ws.get_default_datastore()\n",
    "print(datastore.name, datastore.datastore_type, datastore.account_name, datastore.container_name, sep=\"\\n\")"
   ]
  },
  {
   "cell_type": "code",
   "execution_count": null,
   "metadata": {},
   "outputs": [],
   "source": [
    "datastore.upload_files(files = ['./train-dataset/iris.csv'],\n",
    "                       target_path = 'train-dataset/tabular/',\n",
    "                       overwrite = True,\n",
    "                       show_progress = True)"
   ]
  },
  {
   "cell_type": "markdown",
   "metadata": {},
   "source": [
    "Then we will create and register a TabularDataset pointing to the path in the datastore. You can also create a Dataset from multiple paths. [Learn more](https://docs.microsoft.com/en-us/azure/machine-learning/how-to-create-register-datasets)\n",
    "\n",
    "A Dataset can reference single or multiple files in your datastores or public urls. The files can be of any format. Dataset provides you with the ability to download or mount the files to your compute. By creating a dataset, you create a reference to the data source location. The data remains in its existing location, so no extra storage cost is incurred. [Learn More](https://aka.ms/azureml/howto/createdatasets)"
   ]
  },
  {
   "cell_type": "code",
   "execution_count": null,
   "metadata": {},
   "outputs": [],
   "source": [
    "from azureml.core import Dataset\n",
    "\n",
    "tabular_dataset = Dataset.Tabular.from_delimited_files(path = [(datastore, 'train-dataset/tabular/iris.csv')])\n",
    "tabular_dataset = tabular_dataset.register(workspace=ws,\n",
    "                                           name='iris_tabular',\n",
    "                                           description='tabular iris training data',\n",
    "                                           create_new_version = True)\n",
    "\n",
    "# preview the first 3 rows of the dataset\n",
    "tabular_dataset.take(3).to_pandas_dataframe()"
   ]
  },
  {
   "cell_type": "markdown",
   "metadata": {},
   "source": [
    "Now we will register a dataset in the Azure Machine Learning Workspace as a file dataset. A file dataset can be mounted to the compute engine. When you mount a file system, you attach that file system to a directory (mount point) and make it available to the system. Because mounting load files at the time of processing, it is usually faster than download.\n",
    "Note: mounting is only available for Linux-based compute (DSVM/VM, AMLCompute, HDInsights)."
   ]
  },
  {
   "cell_type": "code",
   "execution_count": null,
   "metadata": {},
   "outputs": [],
   "source": [
    "from azureml.core import Dataset\n",
    "\n",
    "file_dataset = Dataset.File.from_files(path = [(datastore, 'train-dataset/tabular/iris.csv')])\n",
    "file_dataset = file_dataset.register(workspace=ws,\n",
    "                                     name='iris_file',\n",
    "                                     description='file iris training data',\n",
    "                                     create_new_version = True)\n",
    "\n",
    "file_dataset.to_path()"
   ]
  },
  {
   "cell_type": "markdown",
   "metadata": {},
   "source": [
    "## 3. Create Compute Engine"
   ]
  },
  {
   "cell_type": "markdown",
   "metadata": {},
   "source": [
    "In this sample, we want to train a simple scikit-learn model on a remote compute engine on Azure. To do so, we first must create a [compute target](https://docs.microsoft.com/azure/machine-learning/service/concept-azure-machine-learning-architecture#compute-target).\n",
    "\n",
    "In this challenge, we want to use Azure ML managed compute ([AmlCompute](https://docs.microsoft.com/azure/machine-learning/service/how-to-set-up-training-targets#amlcompute)) for our remote training compute resource. Once this is created, you are ready to train on your remote compute."
   ]
  },
  {
   "cell_type": "markdown",
   "metadata": {},
   "source": [
    "#### **Task:** Create a machine learning compute target.\n",
    "\n",
    "Create an Azure Machine Learning Compute cluster and folow the steps one to four.\n",
    "1. Check whether the cluster with the given name already exists.\n",
    "2. Create the configuration (this step is local and only takes a second). Use the SKU `STANDARD_D2_V2` and a maximum of 4 nodes.\n",
    "3. Create the cluster (this step will take about 20 seconds)\n",
    "4. Provision the VMs to bring the cluster to the initial size. This step will take about 3-5 minutes and is providing only sparse output in the process. Please make sure to wait until the call returns before moving to the next cell."
   ]
  },
  {
   "cell_type": "code",
   "execution_count": 4,
   "metadata": {},
   "outputs": [
    {
     "name": "stdout",
     "output_type": "stream",
     "text": [
      "Found existing compute target\n",
      "{'currentNodeCount': 0, 'targetNodeCount': 0, 'nodeStateCounts': {'preparingNodeCount': 0, 'runningNodeCount': 0, 'idleNodeCount': 0, 'unusableNodeCount': 0, 'leavingNodeCount': 0, 'preemptedNodeCount': 0}, 'allocationState': 'Steady', 'allocationStateTransitionTime': '2019-10-24T09:30:26.323000+00:00', 'errors': None, 'creationTime': '2019-02-12T12:37:37.681874+00:00', 'modifiedTime': '2019-02-12T12:38:17.800043+00:00', 'provisioningState': 'Succeeded', 'provisioningStateTransitionTime': None, 'scaleSettings': {'minNodeCount': 0, 'maxNodeCount': 4, 'nodeIdleTimeBeforeScaleDown': 'PT120S'}, 'vmPriority': 'Dedicated', 'vmSize': 'STANDARD_NC6'}\n"
     ]
    }
   ],
   "source": [
    "from azureml.core.compute import ComputeTarget, AmlCompute\n",
    "from azureml.core.compute_target import ComputeTargetException\n",
    "\n",
    "# choose a name for your cluster\n",
    "cluster_name = \"gpucluster\"\n",
    "\n",
    "try:\n",
    "    compute_target = ComputeTarget(workspace=ws, name=cluster_name)\n",
    "    print('Found existing compute target')\n",
    "except ComputeTargetException:\n",
    "    print('Creating a new compute target...')\n",
    "    compute_config = AmlCompute.provisioning_configuration(vm_size='STANDARD_NC6', \n",
    "                                                           max_nodes=4)\n",
    "\n",
    "    # create the cluster\n",
    "    compute_target = ComputeTarget.create(ws, cluster_name, compute_config)\n",
    "\n",
    "    # can poll for a minimum number of nodes and for a specific timeout. \n",
    "    # if no min node count is provided it uses the scale settings for the cluster\n",
    "    compute_target.wait_for_completion(show_output=True, min_node_count=None, timeout_in_minutes=20)\n",
    "\n",
    "# use get_status() to get a detailed status for the current cluster. \n",
    "print(compute_target.get_status().serialize())"
   ]
  },
  {
   "cell_type": "markdown",
   "metadata": {},
   "source": [
    "## 4. Create a project directory "
   ]
  },
  {
   "cell_type": "markdown",
   "metadata": {},
   "source": [
    "Create a directory that will contain all the necessary code from your local machine that you will need access to on the remote resource. This includes the training script and any additional files your training script depends on."
   ]
  },
  {
   "cell_type": "code",
   "execution_count": 5,
   "metadata": {},
   "outputs": [],
   "source": [
    "TRAIN_FOLDER_NAME = 'train'\n",
    "TRAIN_FILE_NAME = 'train.py'"
   ]
  },
  {
   "cell_type": "code",
   "execution_count": 6,
   "metadata": {},
   "outputs": [],
   "source": [
    "import os\n",
    "os.makedirs(os.path.join(\".\", TRAIN_FOLDER_NAME), exist_ok=True)"
   ]
  },
  {
   "cell_type": "markdown",
   "metadata": {},
   "source": [
    "## 5. Create a training script "
   ]
  },
  {
   "cell_type": "markdown",
   "metadata": {},
   "source": [
    "Now you will need to create your training scripts in your project folder. This will be done in the next step. In practice, you should be able to take any custom training script as is and run it with Azure ML without having to modify your code.\n",
    "\n",
    "If you would like to use Azure ML's [tracking and metrics](https://docs.microsoft.com/azure/machine-learning/service/concept-azure-machine-learning-architecture#metrics) capabilities, you will have to add a small amount of Azure ML code inside your training script.\n",
    "\n",
    "In `train_iris.py`, we will log some metrics to our Azure ML run. To do so, we will access the Azure ML Run object within the script:\n",
    "\n",
    "```python\n",
    "from azureml.core.run import Run\n",
    "run = Run.get_context()\n",
    "```\n",
    "\n",
    "Further within `train_iris.py`, we log the kernel and penalty parameters, and the highest accuracy the model achieves:\n",
    "\n",
    "```python\n",
    "run.log('Kernel type', np.string(args.kernel))\n",
    "run.log('Penalty', np.float(args.penalty))\n",
    "\n",
    "run.log('Accuracy', np.float(accuracy))\n",
    "```\n",
    "\n",
    "These run metrics will become particularly important when we begin hyperparameter tuning our model in the \"Tune model hyperparameters\" section."
   ]
  },
  {
   "cell_type": "code",
   "execution_count": 24,
   "metadata": {},
   "outputs": [
    {
     "name": "stdout",
     "output_type": "stream",
     "text": [
      "Overwriting train/train.py\n"
     ]
    }
   ],
   "source": [
    "%%writefile $TRAIN_FOLDER_NAME/$TRAIN_FILE_NAME\n",
    "\n",
    "from __future__ import print_function\n",
    "import argparse\n",
    "import os\n",
    "import shutil\n",
    "import time\n",
    "import onnx\n",
    "import torch\n",
    "import torch.nn as nn\n",
    "import torch.nn.functional as F\n",
    "import torch.optim as optim\n",
    "from torchvision import datasets, transforms\n",
    "import torch.nn.parallel\n",
    "import torch.backends.cudnn as cudnn\n",
    "import torch.distributed as dist\n",
    "import torch.utils.data\n",
    "import torch.utils.data.distributed\n",
    "import torchvision.models as models\n",
    "\n",
    "from azureml.core.run import Run\n",
    "# get the Azure ML run object\n",
    "run = Run.get_context()\n",
    "\n",
    "# Training settings\n",
    "parser = argparse.ArgumentParser(description='PyTorch MNIST Example')\n",
    "parser.add_argument('--batch-size', type=int, default=64, metavar='N',\n",
    "                    help='input batch size for training (default: 64)')\n",
    "parser.add_argument('--test-batch-size', type=int, default=1000, metavar='N',\n",
    "                    help='input batch size for testing (default: 1000)')\n",
    "parser.add_argument('--epochs', type=int, default=10, metavar='N',\n",
    "                    help='number of epochs to train (default: 10)')\n",
    "parser.add_argument('--lr', type=float, default=0.01, metavar='LR',\n",
    "                    help='learning rate (default: 0.01)')\n",
    "parser.add_argument('--momentum', type=float, default=0.5, metavar='M',\n",
    "                    help='SGD momentum (default: 0.5)')\n",
    "parser.add_argument('--seed', type=int, default=1, metavar='S',\n",
    "                    help='random seed (default: 1)')\n",
    "parser.add_argument('-j', '--workers', default=4, type=int, metavar='N',\n",
    "                    help='number of data loading workers (default: 4)')\n",
    "parser.add_argument('--log-interval', type=int, default=10, metavar='N',\n",
    "                    help='how many batches to wait before logging training status')\n",
    "parser.add_argument('--weight-decay', '--wd', default=1e-4, type=float,\n",
    "                    metavar='W', help='weight decay (default: 1e-4)')\n",
    "parser.add_argument('--world-size', default=1, type=int,\n",
    "                    help='number of distributed processes')\n",
    "parser.add_argument('--dist-url', type=str,\n",
    "                    help='url used to set up distributed training')\n",
    "parser.add_argument('--dist-backend', default='nccl', type=str,\n",
    "                    help='distributed backend')\n",
    "parser.add_argument('--rank', default=-1, type=int,\n",
    "                    help='rank of the worker')\n",
    "\n",
    "best_prec1 = 0\n",
    "args = parser.parse_args()\n",
    "\n",
    "args.distributed = args.world_size >= 2\n",
    "\n",
    "if args.distributed:\n",
    "    dist.init_process_group(backend=args.dist_backend, init_method=args.dist_url,\n",
    "                            world_size=args.world_size, rank=args.rank)\n",
    "\n",
    "train_dataset = datasets.MNIST('data-%d' % args.rank, train=True, download=True,\n",
    "                               transform=transforms.Compose([\n",
    "                                   transforms.ToTensor(),\n",
    "                                   transforms.Normalize((0.1307,), (0.3081,))\n",
    "                               ]))\n",
    "\n",
    "if args.distributed:\n",
    "    train_sampler = torch.utils.data.distributed.DistributedSampler(train_dataset)\n",
    "else:\n",
    "    train_sampler = None\n",
    "\n",
    "train_loader = torch.utils.data.DataLoader(\n",
    "    train_dataset,\n",
    "    batch_size=args.batch_size, shuffle=(train_sampler is None),\n",
    "    num_workers=args.workers, pin_memory=True, sampler=train_sampler)\n",
    "\n",
    "\n",
    "test_loader = torch.utils.data.DataLoader(\n",
    "    train_dataset,\n",
    "    batch_size=args.batch_size, shuffle=False,\n",
    "    num_workers=args.workers, pin_memory=True)\n",
    "\n",
    "\n",
    "class Net(nn.Module):\n",
    "    def __init__(self):\n",
    "        super(Net, self).__init__()\n",
    "        self.conv1 = nn.Conv2d(1, 10, kernel_size=5)\n",
    "        self.conv2 = nn.Conv2d(10, 20, kernel_size=5)\n",
    "        self.conv2_drop = nn.Dropout2d()\n",
    "        self.fc1 = nn.Linear(320, 50)\n",
    "        self.fc2 = nn.Linear(50, 10)\n",
    "\n",
    "    def forward(self, x):\n",
    "        x = F.relu(F.max_pool2d(self.conv1(x), 2))\n",
    "        x = F.relu(F.max_pool2d(self.conv2_drop(self.conv2(x)), 2))\n",
    "        x = x.view(-1, 320)\n",
    "        x = F.relu(self.fc1(x))\n",
    "        x = F.dropout(x, training=self.training)\n",
    "        x = self.fc2(x)\n",
    "        return F.log_softmax(x)\n",
    "\n",
    "\n",
    "model = Net()\n",
    "\n",
    "if not args.distributed:\n",
    "    model = torch.nn.DataParallel(model).cuda()\n",
    "else:\n",
    "    model.cuda()\n",
    "    model = torch.nn.parallel.DistributedDataParallel(model)\n",
    "\n",
    "# define loss function (criterion) and optimizer\n",
    "criterion = nn.CrossEntropyLoss().cuda()\n",
    "\n",
    "optimizer = torch.optim.SGD(model.parameters(), args.lr, momentum=args.momentum, weight_decay=args.weight_decay)\n",
    "\n",
    "\n",
    "def train(epoch):\n",
    "    batch_time = AverageMeter()\n",
    "    data_time = AverageMeter()\n",
    "    losses = AverageMeter()\n",
    "    top1 = AverageMeter()\n",
    "    top5 = AverageMeter()\n",
    "\n",
    "    # switch to train mode\n",
    "    model.train()\n",
    "    end = time.time()\n",
    "    for i, (input, target) in enumerate(train_loader):\n",
    "        # measure data loading time\n",
    "        data_time.update(time.time() - end)\n",
    "\n",
    "        input, target = input.cuda(), target.cuda()\n",
    "\n",
    "        # compute output\n",
    "        try:\n",
    "            output = model(input)\n",
    "            loss = criterion(output, target)\n",
    "\n",
    "            # measure accuracy and record loss\n",
    "            prec1, prec5 = accuracy(output.data, target, topk=(1, 5))\n",
    "            losses.update(loss.item(), input.size(0))\n",
    "            top1.update(prec1[0], input.size(0))\n",
    "            top5.update(prec5[0], input.size(0))\n",
    "\n",
    "            # compute gradient and do SGD step\n",
    "            optimizer.zero_grad()\n",
    "            loss.backward()\n",
    "            optimizer.step()\n",
    "\n",
    "            # measure elapsed time\n",
    "            batch_time.update(time.time() - end)\n",
    "            end = time.time()\n",
    "\n",
    "            if i % 5 == 0:\n",
    "                run.log(\"loss\", losses.avg)\n",
    "                run.log(\"prec@1\", \"{0:.3f}\".format(top1.avg))\n",
    "                run.log(\"prec@5\", \"{0:.3f}\".format(top5.avg))\n",
    "                print('Epoch: [{0}][{1}/{2}]\\t'\n",
    "                      'Time {batch_time.val:.3f} ({batch_time.avg:.3f})\\t'\n",
    "                      'Data {data_time.val:.3f} ({data_time.avg:.3f})\\t'\n",
    "                      'Loss {loss.val:.4f} ({loss.avg:.4f})\\t'\n",
    "                      'Prec@1 {top1.val:.3f} ({top1.avg:.3f})\\t'\n",
    "                      'Prec@5 {top5.val:.3f} ({top5.avg:.3f})'.format(epoch, i, len(train_loader),\n",
    "                                                                      batch_time=batch_time, data_time=data_time,\n",
    "                                                                      loss=losses, top1=top1, top5=top5))\n",
    "        except:\n",
    "            import sys\n",
    "            print(\"Unexpected error:\", sys.exc_info()[0])\n",
    "\n",
    "\n",
    "class AverageMeter(object):\n",
    "    \"\"\"Computes and stores the average and current value\"\"\"\n",
    "    def __init__(self):\n",
    "        self.reset()\n",
    "\n",
    "    def reset(self):\n",
    "        self.val = 0\n",
    "        self.avg = 0\n",
    "        self.sum = 0\n",
    "        self.count = 0\n",
    "\n",
    "    def update(self, val, n=1):\n",
    "        self.val = val\n",
    "        self.sum += val * n\n",
    "        self.count += n\n",
    "        self.avg = self.sum / self.count\n",
    "\n",
    "\n",
    "def accuracy(output, target, topk=(1,)):\n",
    "    \"\"\"Computes the precision@k for the specified values of k\"\"\"\n",
    "    maxk = max(topk)\n",
    "    batch_size = target.size(0)\n",
    "\n",
    "    _, pred = output.topk(maxk, 1, True, True)\n",
    "    pred = pred.t()\n",
    "    correct = pred.eq(target.view(1, -1).expand_as(pred))\n",
    "\n",
    "    res = []\n",
    "    for k in topk:\n",
    "        correct_k = correct[:k].view(-1).float().sum(0, keepdim=True)\n",
    "        res.append(correct_k.mul_(100.0 / batch_size))\n",
    "    return res\n",
    "\n",
    "\n",
    "for epoch in range(1, args.epochs + 1):\n",
    "    train(epoch)\n",
    "\n",
    "# Save model as pt file\n",
    "torch.save(model, os.path.join('outputs', 'model.pt'))\n",
    "\n",
    "# Save model as ONNX file\n",
    "dummy_input = torch.randn(1, 1, 28, 28, device='cuda')\n",
    "torch.onnx.export(model,\n",
    "                  dummy_input,\n",
    "                  os.path.join('outputs', 'model.onnx'),\n",
    "                  export_params=True,\n",
    "                  opset_version=10,\n",
    "                  do_constant_folding=True,\n",
    "                  verbose=True,\n",
    "                  input_names=[ \"image\" ],\n",
    "                  output_names=[ \"log_softmax_pred\" ])\n",
    "\n",
    "# Check ONNX model\n",
    "onnx_model = onnx.load(os.path.join('outputs', 'model.onnx'))\n",
    "onnx.checker.check_model(onnx_model)"
   ]
  },
  {
   "cell_type": "markdown",
   "metadata": {},
   "source": [
    "## 6. Create an experiment"
   ]
  },
  {
   "cell_type": "markdown",
   "metadata": {},
   "source": [
    "An *Experiment* is a logical container in an Azure ML Workspace that represents a collection of trials (individual model runs). It hosts run records which can include run metrics and output artifacts from your experiments."
   ]
  },
  {
   "cell_type": "code",
   "execution_count": 25,
   "metadata": {},
   "outputs": [],
   "source": [
    "from azureml.core import Experiment\n",
    "exp = Experiment(workspace=ws, name='pytorch_sample')"
   ]
  },
  {
   "cell_type": "markdown",
   "metadata": {},
   "source": [
    "## 7. Create Estimator"
   ]
  },
  {
   "cell_type": "markdown",
   "metadata": {},
   "source": [
    "An estimator object is used to submit the run. Azure Machine Learning has pre-configured estimators for common machine learning frameworks, as well as generic Estimator. Create a generic estimator for by specifying\n",
    "\n",
    "- The name of the estimator object, est\n",
    "- The directory that contains your scripts. All the files in this directory are uploaded into the cluster nodes for execution.\n",
    "- The training script name, train_titanic.py\n",
    "- The input Dataset for training\n",
    "- The compute target. In this case you will use the AmlCompute you created\n",
    "- The environment definition for the experiment"
   ]
  },
  {
   "cell_type": "code",
   "execution_count": 26,
   "metadata": {},
   "outputs": [],
   "source": [
    "from azureml.train.dnn import PyTorch, Nccl\n",
    "\n",
    "script_params = {'--dist-backend' : 'nccl',\n",
    "                 '--dist-url': '$AZ_BATCHAI_PYTORCH_INIT_METHOD',\n",
    "                 '--rank': '$AZ_BATCHAI_TASK_INDEX',\n",
    "                 '--world-size': 2,\n",
    "                 '--epochs': 1}\n",
    "\n",
    "est = PyTorch(source_directory=TRAIN_FOLDER_NAME,\n",
    "              entry_script=TRAIN_FILE_NAME,\n",
    "              script_params=script_params,\n",
    "              compute_target=compute_target,\n",
    "              node_count=2,\n",
    "              distributed_training=Nccl(),\n",
    "              use_gpu=True,\n",
    "              framework_version='1.3') "
   ]
  },
  {
   "cell_type": "markdown",
   "metadata": {},
   "source": [
    "In the above code, `script_params` uses Azure ML generated `AZ_BATCHAI_PYTORCH_INIT_METHOD` for shared file-system initialization and `AZ_BATCHAI_TASK_INDEX` as rank of each worker process.\n",
    "The above code specifies that we will run our training script on `2` nodes, with one worker per node. In order to execute a distributed run using Nccl, you must provide the argument `distributed_training=Nccl()`. Using this estimator with these settings, PyTorch and dependencies will be installed for you. However, if your script also uses other packages, make sure to install them via the `PyTorch` constructor's `pip_packages` or `conda_packages` parameters."
   ]
  },
  {
   "cell_type": "code",
   "execution_count": 27,
   "metadata": {},
   "outputs": [
    {
     "data": {
      "text/plain": [
       "\"\\n# Alternative\\nfrom azureml.train.dnn import PyTorch, Gloo\\n\\nscript_params = {'--dist-backend' : 'gloo',\\n                 '--dist-url': '$AZ_BATCHAI_PYTORCH_INIT_METHOD',\\n                 '--rank': '$AZ_BATCHAI_TASK_INDEX',\\n                 '--world-size': 2}\\n\\nest = PyTorch(source_directory=TRAIN_FOLDER_NAME,\\n                    entry_script=TRAIN_FILE_NAME,\\n                    script_params=script_params,\\n                    compute_target=compute_target,\\n                    node_count=2,\\n                    distributed_training=Gloo(),\\n                    use_gpu=True)\\n\""
      ]
     },
     "execution_count": 27,
     "metadata": {},
     "output_type": "execute_result"
    }
   ],
   "source": [
    "'''\n",
    "# Alternative\n",
    "from azureml.train.dnn import PyTorch, Gloo\n",
    "\n",
    "script_params = {'--dist-backend' : 'gloo',\n",
    "                 '--dist-url': '$AZ_BATCHAI_PYTORCH_INIT_METHOD',\n",
    "                 '--rank': '$AZ_BATCHAI_TASK_INDEX',\n",
    "                 '--world-size': 2}\n",
    "\n",
    "est = PyTorch(source_directory=TRAIN_FOLDER_NAME,\n",
    "                    entry_script=TRAIN_FILE_NAME,\n",
    "                    script_params=script_params,\n",
    "                    compute_target=compute_target,\n",
    "                    node_count=2,\n",
    "                    distributed_training=Gloo(),\n",
    "                    use_gpu=True)\n",
    "'''"
   ]
  },
  {
   "cell_type": "markdown",
   "metadata": {},
   "source": [
    "In the above code, `script_params` uses Azure ML generated `AZ_BATCHAI_PYTORCH_INIT_METHOD` for shared file-system initialization and `AZ_BATCHAI_TASK_INDEX` as rank of each worker process.\n",
    "The above code specifies that we will run our training script on `2` nodes, with one worker per node. In order to execute a distributed run using Gloo, you must provide the argument `distributed_training=Gloo()`. Using this estimator with these settings, PyTorch and dependencies will be installed for you. However, if your script also uses other packages, make sure to install them via the `PyTorch` constructor's `pip_packages` or `conda_packages` parameters.\n",
    "\n",
    "Once you create the estimaotr you can follow the submit steps as shown above to submit a PyTorch run with `Gloo` backend. "
   ]
  },
  {
   "cell_type": "markdown",
   "metadata": {},
   "source": [
    "## 8. Submit the job"
   ]
  },
  {
   "cell_type": "markdown",
   "metadata": {},
   "source": [
    "Submit the estimator to the Azure ML experiment to kick off the execution."
   ]
  },
  {
   "cell_type": "code",
   "execution_count": 28,
   "metadata": {
    "scrolled": true
   },
   "outputs": [
    {
     "name": "stdout",
     "output_type": "stream",
     "text": [
      "RunId: pytorch_sample_1578647429_5ab88482\n",
      "Web View: https://ml.azure.com/experiments/pytorch_sample/runs/pytorch_sample_1578647429_5ab88482?wsid=/subscriptions/558bd446-4212-46a2-908c-9ab0a628705e/resourcegroups/azure-ml-service-rg/workspaces/myworkspace\n",
      "\n",
      "Streaming azureml-logs/55_azureml-execution-tvmps_9560b8e3c57583a99c08e3cfd5df49a273a054ed3867157a53d5fe8f75ec36fc_d.txt\n",
      "========================================================================================================================\n",
      "\n",
      "2020-01-10T09:14:58Z Starting output-watcher...\n",
      "Login Succeeded\n",
      "1.3-gpu: Pulling from pytorch\n",
      "35c102085707: Pulling fs layer\n",
      "251f5509d51d: Pulling fs layer\n",
      "8e829fe70a46: Pulling fs layer\n",
      "6001e1789921: Pulling fs layer\n",
      "9f0a21d58e5d: Pulling fs layer\n",
      "47b91ac70c27: Pulling fs layer\n",
      "a0529eb74f28: Pulling fs layer\n",
      "23bff6dcced5: Pulling fs layer\n",
      "2137cd2bcba9: Pulling fs layer\n",
      "534a428e13b2: Pulling fs layer\n",
      "9489ba490035: Pulling fs layer\n",
      "d52114015b68: Pulling fs layer\n",
      "4ad1a9a2eefc: Pulling fs layer\n",
      "73fda3cf0506: Pulling fs layer\n",
      "58df80ca3f37: Pulling fs layer\n",
      "e2f521c73c2d: Pulling fs layer\n",
      "4ed3983585cc: Pulling fs layer\n",
      "80556b67037d: Pulling fs layer\n",
      "47b91ac70c27: Waiting\n",
      "a0529eb74f28: Waiting\n",
      "73fda3cf0506: Waiting\n",
      "2137cd2bcba9: Waiting\n",
      "80556b67037d: Waiting\n",
      "4ed3983585cc: Waiting\n",
      "58df80ca3f37: Waiting\n",
      "534a428e13b2: Waiting\n",
      "e2f521c73c2d: Waiting\n",
      "9489ba490035: Waiting\n",
      "6001e1789921: Waiting\n",
      "d52114015b68: Waiting\n",
      "9f0a21d58e5d: Waiting\n",
      "251f5509d51d: Verifying Checksum\n",
      "251f5509d51d: Download complete\n",
      "8e829fe70a46: Download complete\n",
      "35c102085707: Download complete\n",
      "6001e1789921: Verifying Checksum\n",
      "6001e1789921: Download complete\n",
      "9f0a21d58e5d: Verifying Checksum\n",
      "9f0a21d58e5d: Download complete\n",
      "a0529eb74f28: Verifying Checksum\n",
      "a0529eb74f28: Download complete\n",
      "47b91ac70c27: Download complete\n",
      "35c102085707: Pull complete\n",
      "251f5509d51d: Pull complete\n",
      "8e829fe70a46: Pull complete\n",
      "6001e1789921: Pull complete\n",
      "9f0a21d58e5d: Pull complete\n",
      "47b91ac70c27: Pull complete\n",
      "a0529eb74f28: Pull complete\n",
      "534a428e13b2: Verifying Checksum\n",
      "534a428e13b2: Download complete\n",
      "9489ba490035: Verifying Checksum\n",
      "9489ba490035: Download complete\n",
      "d52114015b68: Verifying Checksum\n",
      "d52114015b68: Download complete\n",
      "4ad1a9a2eefc: Verifying Checksum\n",
      "4ad1a9a2eefc: Download complete\n",
      "23bff6dcced5: Verifying Checksum\n",
      "23bff6dcced5: Download complete\n",
      "73fda3cf0506: Verifying Checksum\n",
      "73fda3cf0506: Download complete\n",
      "58df80ca3f37: Verifying Checksum\n",
      "58df80ca3f37: Download complete\n",
      "4ed3983585cc: Verifying Checksum\n",
      "4ed3983585cc: Download complete\n",
      "e2f521c73c2d: Verifying Checksum\n",
      "e2f521c73c2d: Download complete\n",
      "2137cd2bcba9: Verifying Checksum\n",
      "2137cd2bcba9: Download complete\n",
      "80556b67037d: Verifying Checksum\n",
      "80556b67037d: Download complete\n",
      "23bff6dcced5: Pull complete\n",
      "2137cd2bcba9: Pull complete\n",
      "534a428e13b2: Pull complete\n",
      "9489ba490035: Pull complete\n",
      "d52114015b68: Pull complete\n",
      "4ad1a9a2eefc: Pull complete\n",
      "73fda3cf0506: Pull complete\n",
      "58df80ca3f37: Pull complete\n",
      "e2f521c73c2d: Pull complete\n",
      "4ed3983585cc: Pull complete\n",
      "80556b67037d: Pull complete\n",
      "Digest: sha256:5d5423d2b3b02407bffbb124886f2f3e3d3e7d7e2d2426098ed3f8bad131a755\n",
      "Status: Downloaded newer image for viennaprivate.azurecr.io/pytorch:1.3-gpu\n",
      "90e53795b17243067c5c7dc486bc8106801855f3d799fdb5d18a8cdcb52a6be3\n",
      "2020/01/10 09:17:28 Version: 3.0.01069.0001 Branch: master Commit: 00200ea2\n",
      "2020/01/10 09:17:28 /dev/infiniband/uverbs0 found (implying presence of InfiniBand)?: false\n",
      "2020/01/10 09:17:28 sshd runtime has already been installed in the container\n",
      "ssh-keygen: generating new host keys: DSA \n",
      "\n",
      "Streaming azureml-logs/70_driver_log_0.txt\n",
      "==========================================\n",
      "\n",
      "Starting the daemon thread to refresh tokens in background for process with pid = 137\n",
      "Entering Run History Context Manager.\n",
      "\n",
      "\n",
      "The experiment failed. Finalizing run...\n",
      "Cleaning up all outstanding Run operations, waiting 300.0 seconds\n",
      "1 items cleaning up...\n",
      "Cleanup took 0.0005910396575927734 seconds\n",
      "Starting the daemon thread to refresh tokens in background for process with pid = 137\n",
      "Traceback (most recent call last):\n",
      "  File \"train.py\", line 7, in <module>\n",
      "    import onnx\n",
      "ModuleNotFoundError: No module named 'onnx'\n",
      "\n",
      "\n",
      "Streaming azureml-logs/75_job_post-tvmps_9560b8e3c57583a99c08e3cfd5df49a273a054ed3867157a53d5fe8f75ec36fc_d.txt\n",
      "===============================================================================================================\n",
      "\n",
      "\n",
      "Execution Summary\n",
      "=================\n",
      "RunId: pytorch_sample_1578647429_5ab88482\n",
      "Web View: https://ml.azure.com/experiments/pytorch_sample/runs/pytorch_sample_1578647429_5ab88482?wsid=/subscriptions/558bd446-4212-46a2-908c-9ab0a628705e/resourcegroups/azure-ml-service-rg/workspaces/myworkspace\n",
      "\n",
      "Warnings:\n",
      "{\n",
      "  \"error\": {\n",
      "    \"code\": \"UserError\",\n",
      "    \"message\": \"User program failed with ModuleNotFoundError: No module named 'onnx'\",\n",
      "    \"detailsUri\": \"https://aka.ms/azureml-known-errors\",\n",
      "    \"target\": null,\n",
      "    \"details\": [],\n",
      "    \"innerError\": null,\n",
      "    \"debugInfo\": {\n",
      "      \"type\": \"ModuleNotFoundError\",\n",
      "      \"message\": \"No module named 'onnx'\",\n",
      "      \"stackTrace\": \"  File \\\"/mnt/batch/tasks/shared/LS_root/jobs/myworkspace/azureml/pytorch_sample_1578647429_5ab88482/mounts/workspaceblobstore/azureml/pytorch_sample_1578647429_5ab88482/azureml-setup/context_manager_injector.py\\\", line 119, in execute_with_context\\n    runpy.run_path(sys.argv[0], globals(), run_name=\\\"__main__\\\")\\n  File \\\"/opt/miniconda/lib/python3.6/runpy.py\\\", line 263, in run_path\\n    pkg_name=pkg_name, script_name=fname)\\n  File \\\"/opt/miniconda/lib/python3.6/runpy.py\\\", line 96, in _run_module_code\\n    mod_name, mod_spec, pkg_name, script_name)\\n  File \\\"/opt/miniconda/lib/python3.6/runpy.py\\\", line 85, in _run_code\\n    exec(code, run_globals)\\n  File \\\"train.py\\\", line 7, in <module>\\n    import onnx\\n\",\n",
      "      \"innerException\": null,\n",
      "      \"data\": null,\n",
      "      \"errorResponse\": null\n",
      "    }\n",
      "  },\n",
      "  \"correlation\": null,\n",
      "  \"environment\": null,\n",
      "  \"location\": null,\n",
      "  \"time\": \"0001-01-01T00:00:00+00:00\"\n",
      "}\n",
      "ERROR:: RunHistoryJobRelease  failed. . Exception Details:Traceback (most recent call last):\n",
      "  File \"/opt/miniconda/lib/python3.6/site-packages/azureml/_restclient/clientbase.py\", line 287, in _execute_func_internal\n",
      "    return func(*args, **kwargs)\n",
      "  File \"/opt/miniconda/lib/python3.6/site-packages/azureml/_restclient/operations/artifact_operations.py\", line 879, in batch_create_empty_artifacts\n",
      "    raise models.ErrorResponseException(self._deserialize, response)\n",
      "azureml._restclient.models.error_response.ErrorResponseException: Operation returned an invalid status code 'Forbidden'\n",
      "\n",
      "The above exception was the direct cause of the following exception:\n",
      "\n",
      "Traceback (most recent call last):\n",
      "  File \"/mnt/batch/tasks/shared/LS_root/jobs/myworkspace/azureml/pytorch_sample_1578647429_5ab88482/mounts/workspaceblobstore/azureml/pytorch_sample_1578647429_5ab88482/azureml-setup/job_release.py\", line 63, in run_history_release\n",
      "    execute_job_release(**config)\n",
      "  File \"/opt/miniconda/lib/python3.6/site-packages/azureml/history/_tracking.py\", line 79, in execute_job_release\n",
      "    aml_logger.debug(\"Executing history release.\")\n",
      "  File \"/opt/miniconda/lib/python3.6/site-packages/azureml/_history/utils/context_managers.py\", line 57, in __exit__\n",
      "    return self._exit_stack.__exit__(*args)\n",
      "  File \"/opt/miniconda/lib/python3.6/contextlib.py\", line 380, in __exit__\n",
      "    raise exc_details[1]\n",
      "  File \"/opt/miniconda/lib/python3.6/contextlib.py\", line 365, in __exit__\n",
      "    if cb(*exc_details):\n",
      "  File \"/opt/miniconda/lib/python3.6/contextlib.py\", line 284, in _exit_wrapper\n",
      "    return cm_exit(cm, *exc_details)\n",
      "  File \"/opt/miniconda/lib/python3.6/site-packages/azureml/_history/utils/context_managers.py\", line 186, in __exit__\n",
      "    self._upload_azureml_log()\n",
      "  File \"/opt/miniconda/lib/python3.6/site-packages/azureml/_history/utils/context_managers.py\", line 201, in _upload_azureml_log\n",
      "    self.run_tracker.upload_file(azureml_log_name_blob, azureml_logs[azureml_log])\n",
      "  File \"/opt/miniconda/lib/python3.6/site-packages/azureml/core/run.py\", line 49, in wrapped\n",
      "    return func(self, *args, **kwargs)\n",
      "  File \"/opt/miniconda/lib/python3.6/site-packages/azureml/core/run.py\", line 1751, in upload_file\n",
      "    return self._client.artifacts.upload_artifact(path_or_stream, RUN_ORIGIN, self._container, name)\n",
      "  File \"/opt/miniconda/lib/python3.6/site-packages/azureml/_restclient/artifacts_client.py\", line 113, in upload_artifact\n",
      "    return self.upload_artifact_from_path(artifact, *args, **kwargs)\n",
      "  File \"/opt/miniconda/lib/python3.6/site-packages/azureml/_restclient/artifacts_client.py\", line 106, in upload_artifact_from_path\n",
      "    return self.upload_artifact_from_stream(stream, *args, **kwargs)\n",
      "  File \"/opt/miniconda/lib/python3.6/site-packages/azureml/_restclient/artifacts_client.py\", line 94, in upload_artifact_from_stream\n",
      "    res = self.create_empty_artifacts(origin, container, name)\n",
      "  File \"/opt/miniconda/lib/python3.6/site-packages/azureml/_restclient/artifacts_client.py\", line 69, in create_empty_artifacts\n",
      "    batch_create_command)\n",
      "  File \"/opt/miniconda/lib/python3.6/site-packages/azureml/_restclient/workspace_client.py\", line 71, in _execute_with_workspace_arguments\n",
      "    return self._execute_with_arguments(func, copy.deepcopy(self._workspace_arguments), *args, **kwargs)\n",
      "  File \"/opt/miniconda/lib/python3.6/site-packages/azureml/_restclient/workspace_client.py\", line 87, in _execute_with_arguments\n",
      "    return self._call_api(func, *args_list, **kwargs)\n",
      "  File \"/opt/miniconda/lib/python3.6/site-packages/azureml/_restclient/clientbase.py\", line 221, in _call_api\n",
      "    return self._execute_with_base_arguments(func, *args, **kwargs)\n",
      "  File \"/opt/miniconda/lib/python3.6/site-packages/azureml/_restclient/clientbase.py\", line 274, in _execute_with_base_arguments\n",
      "    back_off, total_retry, self._logger, func, _noop_reset, *args, **kwargs)\n",
      "  File \"/opt/miniconda/lib/python3.6/site-packages/azureml/_restclient/clientbase.py\", line 289, in _execute_func_internal\n",
      "    left_retry = cls._handle_retry(back_off, left_retry, total_retry, error, logger, func)\n",
      "  File \"/opt/miniconda/lib/python3.6/site-packages/azureml/_restclient/clientbase.py\", line 330, in _handle_retry\n",
      "    raise_from(UserErrorException(error_msg), error)\n",
      "  File \"<string>\", line 3, in raise_from\n",
      "azureml.exceptions._azureml_exception.UserErrorException: UserErrorException:\n",
      "\tMessage: \n",
      "Operation returned an invalid status code 'Forbidden'. The possible reason could be:\n",
      "1. You are not authorized to access this resource, or directory listing denied.\n",
      "2. you may not login your azure service, or use other subscription, you can check your\n",
      "default account by running azure cli commend:\n",
      "'az account list -o table'.\n",
      "3. You have multiple objects/login session opened, please close all session and try again.\n",
      "                \n",
      "\tInnerException None\n",
      "\tErrorResponse \n",
      "{\n",
      "    \"error\": {\n",
      "        \"code\": \"UserError\",\n",
      "        \"message\": \"\\nOperation returned an invalid status code 'Forbidden'. The possible reason could be:\\n1. You are not authorized to access this resource, or directory listing denied.\\n2. you may not login your azure service, or use other subscription, you can check your\\ndefault account by running azure cli commend:\\n'az account list -o table'.\\n3. You have multiple objects/login session opened, please close all session and try again.\\n                \"\n",
      "    }\n",
      "}\n",
      "\n",
      "{\n",
      "  \"error\": {\n",
      "    \"code\": \"ServiceError\",\n",
      "    \"message\": \"Job release failed: UserErrorException:\\n\\tMessage: \\nOperation returned an invalid status code 'Forbidden'. The possible reason could be:\\n1. You are not authorized to access this resource, or directory listing denied.\\n2. you may not login your azure service, or use other subscription, you can check your\\ndefault account by running azure cli commend:\\n'az account list -o table'.\\n3. You have multiple objects/login session opened, please close all session and try again.\\n                \\n\\tInnerException None\\n\\tErrorResponse \\n{\\n    \\\"error\\\": {\\n        \\\"code\\\": \\\"UserError\\\",\\n        \\\"message\\\": \\\"\\\\nOperation returned an invalid status code 'Forbidden'. The possible reason could be:\\\\n1. You are not authorized to access this resource, or directory listing denied.\\\\n2. you may not login your azure service, or use other subscription, you can check your\\\\ndefault account by running azure cli commend:\\\\n'az account list -o table'.\\\\n3. You have multiple objects/login session opened, please close all session and try again.\\\\n                \\\"\\n    }\\n}\",\n",
      "    \"detailsUri\": null,\n",
      "    \"target\": null,\n",
      "    \"details\": [],\n",
      "    \"innerError\": null,\n",
      "    \"debugInfo\": {\n",
      "      \"type\": \"UserErrorException\",\n",
      "      \"message\": \"UserErrorException:\\n\\tMessage: \\nOperation returned an invalid status code 'Forbidden'. The possible reason could be:\\n1. You are not authorized to access this resource, or directory listing denied.\\n2. you may not login your azure service, or use other subscription, you can check your\\ndefault account by running azure cli commend:\\n'az account list -o table'.\\n3. You have multiple objects/login session opened, please close all session and try again.\\n                \\n\\tInnerException None\\n\\tErrorResponse \\n{\\n    \\\"error\\\": {\\n        \\\"code\\\": \\\"UserError\\\",\\n        \\\"message\\\": \\\"\\\\nOperation returned an invalid status code 'Forbidden'. The possible reason could be:\\\\n1. You are not authorized to access this resource, or directory listing denied.\\\\n2. you may not login your azure service, or use other subscription, you can check your\\\\ndefault account by running azure cli commend:\\\\n'az account list -o table'.\\\\n3. You have multiple objects/login session opened, please close all session and try again.\\\\n                \\\"\\n    }\\n}\",\n",
      "      \"stackTrace\": \"  File \\\"/mnt/batch/tasks/shared/LS_root/jobs/myworkspace/azureml/pytorch_sample_1578647429_5ab88482/mounts/workspaceblobstore/azureml/pytorch_sample_1578647429_5ab88482/azureml-setup/job_release.py\\\", line 176, in <module>\\n    invoke()\\n  File \\\"/mnt/batch/tasks/shared/LS_root/jobs/myworkspace/azureml/pytorch_sample_1578647429_5ab88482/mounts/workspaceblobstore/azureml/pytorch_sample_1578647429_5ab88482/azureml-setup/job_release.py\\\", line 168, in invoke\\n    raise runhistory_release_shared_obj['error']\\n  File \\\"/mnt/batch/tasks/shared/LS_root/jobs/myworkspace/azureml/pytorch_sample_1578647429_5ab88482/mounts/workspaceblobstore/azureml/pytorch_sample_1578647429_5ab88482/azureml-setup/job_release.py\\\", line 63, in run_history_release\\n    execute_job_release(**config)\\n  File \\\"/opt/miniconda/lib/python3.6/site-packages/azureml/history/_tracking.py\\\", line 79, in execute_job_release\\n    aml_logger.debug(\\\"Executing history release.\\\")\\n  File \\\"/opt/miniconda/lib/python3.6/site-packages/azureml/_history/utils/context_managers.py\\\", line 57, in __exit__\\n    return self._exit_stack.__exit__(*args)\\n  File \\\"/opt/miniconda/lib/python3.6/contextlib.py\\\", line 380, in __exit__\\n    raise exc_details[1]\\n  File \\\"/opt/miniconda/lib/python3.6/contextlib.py\\\", line 365, in __exit__\\n    if cb(*exc_details):\\n  File \\\"/opt/miniconda/lib/python3.6/contextlib.py\\\", line 284, in _exit_wrapper\\n    return cm_exit(cm, *exc_details)\\n  File \\\"/opt/miniconda/lib/python3.6/site-packages/azureml/_history/utils/context_managers.py\\\", line 186, in __exit__\\n    self._upload_azureml_log()\\n  File \\\"/opt/miniconda/lib/python3.6/site-packages/azureml/_history/utils/context_managers.py\\\", line 201, in _upload_azureml_log\\n    self.run_tracker.upload_file(azureml_log_name_blob, azureml_logs[azureml_log])\\n  File \\\"/opt/miniconda/lib/python3.6/site-packages/azureml/core/run.py\\\", line 49, in wrapped\\n    return func(self, *args, **kwargs)\\n  File \\\"/opt/miniconda/lib/python3.6/site-packages/azureml/core/run.py\\\", line 1751, in upload_file\\n    return self._client.artifacts.upload_artifact(path_or_stream, RUN_ORIGIN, self._container, name)\\n  File \\\"/opt/miniconda/lib/python3.6/site-packages/azureml/_restclient/artifacts_client.py\\\", line 113, in upload_artifact\\n    return self.upload_artifact_from_path(artifact, *args, **kwargs)\\n  File \\\"/opt/miniconda/lib/python3.6/site-packages/azureml/_restclient/artifacts_client.py\\\", line 106, in upload_artifact_from_path\\n    return self.upload_artifact_from_stream(stream, *args, **kwargs)\\n  File \\\"/opt/miniconda/lib/python3.6/site-packages/azureml/_restclient/artifacts_client.py\\\", line 94, in upload_artifact_from_stream\\n    res = self.create_empty_artifacts(origin, container, name)\\n  File \\\"/opt/miniconda/lib/python3.6/site-packages/azureml/_restclient/artifacts_client.py\\\", line 69, in create_empty_artifacts\\n    batch_create_command)\\n  File \\\"/opt/miniconda/lib/python3.6/site-packages/azureml/_restclient/workspace_client.py\\\", line 71, in _execute_with_workspace_arguments\\n    return self._execute_with_arguments(func, copy.deepcopy(self._workspace_arguments), *args, **kwargs)\\n  File \\\"/opt/miniconda/lib/python3.6/site-packages/azureml/_restclient/workspace_client.py\\\", line 87, in _execute_with_arguments\\n    return self._call_api(func, *args_list, **kwargs)\\n  File \\\"/opt/miniconda/lib/python3.6/site-packages/azureml/_restclient/clientbase.py\\\", line 221, in _call_api\\n    return self._execute_with_base_arguments(func, *args, **kwargs)\\n  File \\\"/opt/miniconda/lib/python3.6/site-packages/azureml/_restclient/clientbase.py\\\", line 274, in _execute_with_base_arguments\\n    back_off, total_retry, self._logger, func, _noop_reset, *args, **kwargs)\\n  File \\\"/opt/miniconda/lib/python3.6/site-packages/azureml/_restclient/clientbase.py\\\", line 289, in _execute_func_internal\\n    left_retry = cls._handle_retry(back_off, left_retry, total_retry, error, logger, func)\\n  File \\\"/opt/miniconda/lib/python3.6/site-packages/azureml/_restclient/clientbase.py\\\", line 330, in _handle_retry\\n    raise_from(UserErrorException(error_msg), error)\\n  File \\\"<string>\\\", line 3, in raise_from\\n\",\n",
      "      \"innerException\": null,\n",
      "      \"data\": null,\n",
      "      \"errorResponse\": null\n",
      "    }\n",
      "  },\n",
      "  \"correlation\": null,\n",
      "  \"environment\": null,\n",
      "  \"location\": null,\n",
      "  \"time\": \"0001-01-01T00:00:00+00:00\"\n",
      "}\n",
      "{\n",
      "  \"error\": {\n",
      "    \"code\": \"UserError\",\n",
      "    \"message\": \"AzureMLCompute job failed.\\nJobFailed: Submitted script failed with a non-zero exit code; see the driver log file for details.\",\n",
      "    \"detailsUri\": null,\n",
      "    \"target\": null,\n",
      "    \"details\": [],\n",
      "    \"innerError\": null,\n",
      "    \"debugInfo\": null\n",
      "  },\n",
      "  \"correlation\": {\n",
      "    \"operation\": null,\n",
      "    \"request\": \"66d47f764a25ea5b\"\n",
      "  },\n",
      "  \"environment\": \"westeurope\",\n",
      "  \"location\": \"westeurope\",\n",
      "  \"time\": \"2020-01-10T09:19:26.1954432+00:00\"\n",
      "}\n",
      "\n"
     ]
    },
    {
     "ename": "ActivityFailedException",
     "evalue": "ActivityFailedException:\n\tMessage: Activity Failed:\n{\n    \"error\": {\n        \"code\": \"UserError\",\n        \"message\": \"User program failed with ModuleNotFoundError: No module named 'onnx'\",\n        \"detailsUri\": \"https://aka.ms/azureml-known-errors\",\n        \"details\": [],\n        \"debugInfo\": {\n            \"type\": \"ModuleNotFoundError\",\n            \"message\": \"No module named 'onnx'\",\n            \"stackTrace\": \"  File \\\"/mnt/batch/tasks/shared/LS_root/jobs/myworkspace/azureml/pytorch_sample_1578647429_5ab88482/mounts/workspaceblobstore/azureml/pytorch_sample_1578647429_5ab88482/azureml-setup/context_manager_injector.py\\\", line 119, in execute_with_context\\n    runpy.run_path(sys.argv[0], globals(), run_name=\\\"__main__\\\")\\n  File \\\"/opt/miniconda/lib/python3.6/runpy.py\\\", line 263, in run_path\\n    pkg_name=pkg_name, script_name=fname)\\n  File \\\"/opt/miniconda/lib/python3.6/runpy.py\\\", line 96, in _run_module_code\\n    mod_name, mod_spec, pkg_name, script_name)\\n  File \\\"/opt/miniconda/lib/python3.6/runpy.py\\\", line 85, in _run_code\\n    exec(code, run_globals)\\n  File \\\"train.py\\\", line 7, in <module>\\n    import onnx\\n\"\n        }\n    },\n    \"time\": \"0001-01-01T00:00:00.000Z\"\n}\n\tInnerException None\n\tErrorResponse \n{\n    \"error\": {\n        \"message\": \"Activity Failed:\\n{\\n    \\\"error\\\": {\\n        \\\"code\\\": \\\"UserError\\\",\\n        \\\"message\\\": \\\"User program failed with ModuleNotFoundError: No module named 'onnx'\\\",\\n        \\\"detailsUri\\\": \\\"https://aka.ms/azureml-known-errors\\\",\\n        \\\"details\\\": [],\\n        \\\"debugInfo\\\": {\\n            \\\"type\\\": \\\"ModuleNotFoundError\\\",\\n            \\\"message\\\": \\\"No module named 'onnx'\\\",\\n            \\\"stackTrace\\\": \\\"  File \\\\\\\"/mnt/batch/tasks/shared/LS_root/jobs/myworkspace/azureml/pytorch_sample_1578647429_5ab88482/mounts/workspaceblobstore/azureml/pytorch_sample_1578647429_5ab88482/azureml-setup/context_manager_injector.py\\\\\\\", line 119, in execute_with_context\\\\n    runpy.run_path(sys.argv[0], globals(), run_name=\\\\\\\"__main__\\\\\\\")\\\\n  File \\\\\\\"/opt/miniconda/lib/python3.6/runpy.py\\\\\\\", line 263, in run_path\\\\n    pkg_name=pkg_name, script_name=fname)\\\\n  File \\\\\\\"/opt/miniconda/lib/python3.6/runpy.py\\\\\\\", line 96, in _run_module_code\\\\n    mod_name, mod_spec, pkg_name, script_name)\\\\n  File \\\\\\\"/opt/miniconda/lib/python3.6/runpy.py\\\\\\\", line 85, in _run_code\\\\n    exec(code, run_globals)\\\\n  File \\\\\\\"train.py\\\\\\\", line 7, in <module>\\\\n    import onnx\\\\n\\\"\\n        }\\n    },\\n    \\\"time\\\": \\\"0001-01-01T00:00:00.000Z\\\"\\n}\"\n    }\n}",
     "output_type": "error",
     "traceback": [
      "\u001b[1;31m---------------------------------------------------------------------------\u001b[0m",
      "\u001b[1;31mActivityFailedException\u001b[0m                   Traceback (most recent call last)",
      "\u001b[1;32m<ipython-input-28-956c033d5623>\u001b[0m in \u001b[0;36m<module>\u001b[1;34m\u001b[0m\n\u001b[0;32m      1\u001b[0m \u001b[0mrun\u001b[0m \u001b[1;33m=\u001b[0m \u001b[0mexp\u001b[0m\u001b[1;33m.\u001b[0m\u001b[0msubmit\u001b[0m\u001b[1;33m(\u001b[0m\u001b[0mest\u001b[0m\u001b[1;33m)\u001b[0m\u001b[1;33m\u001b[0m\u001b[1;33m\u001b[0m\u001b[0m\n\u001b[1;32m----> 2\u001b[1;33m \u001b[0mrun\u001b[0m\u001b[1;33m.\u001b[0m\u001b[0mwait_for_completion\u001b[0m\u001b[1;33m(\u001b[0m\u001b[0mshow_output\u001b[0m\u001b[1;33m=\u001b[0m\u001b[1;32mTrue\u001b[0m\u001b[1;33m,\u001b[0m \u001b[0mwait_post_processing\u001b[0m\u001b[1;33m=\u001b[0m\u001b[1;32mTrue\u001b[0m\u001b[1;33m)\u001b[0m\u001b[1;33m\u001b[0m\u001b[1;33m\u001b[0m\u001b[0m\n\u001b[0m",
      "\u001b[1;32mC:\\ProgramData\\Anaconda3\\lib\\site-packages\\azureml\\core\\run.py\u001b[0m in \u001b[0;36mwait_for_completion\u001b[1;34m(self, show_output, wait_post_processing, raise_on_error)\u001b[0m\n\u001b[0;32m    655\u001b[0m                     \u001b[0mfile_handle\u001b[0m\u001b[1;33m=\u001b[0m\u001b[0msys\u001b[0m\u001b[1;33m.\u001b[0m\u001b[0mstdout\u001b[0m\u001b[1;33m,\u001b[0m\u001b[1;33m\u001b[0m\u001b[1;33m\u001b[0m\u001b[0m\n\u001b[0;32m    656\u001b[0m                     \u001b[0mwait_post_processing\u001b[0m\u001b[1;33m=\u001b[0m\u001b[0mwait_post_processing\u001b[0m\u001b[1;33m,\u001b[0m\u001b[1;33m\u001b[0m\u001b[1;33m\u001b[0m\u001b[0m\n\u001b[1;32m--> 657\u001b[1;33m                     raise_on_error=raise_on_error)\n\u001b[0m\u001b[0;32m    658\u001b[0m                 \u001b[1;32mreturn\u001b[0m \u001b[0mself\u001b[0m\u001b[1;33m.\u001b[0m\u001b[0mget_details\u001b[0m\u001b[1;33m(\u001b[0m\u001b[1;33m)\u001b[0m\u001b[1;33m\u001b[0m\u001b[1;33m\u001b[0m\u001b[0m\n\u001b[0;32m    659\u001b[0m             \u001b[1;32mexcept\u001b[0m \u001b[0mKeyboardInterrupt\u001b[0m\u001b[1;33m:\u001b[0m\u001b[1;33m\u001b[0m\u001b[1;33m\u001b[0m\u001b[0m\n",
      "\u001b[1;32mC:\\ProgramData\\Anaconda3\\lib\\site-packages\\azureml\\core\\run.py\u001b[0m in \u001b[0;36m_stream_run_output\u001b[1;34m(self, file_handle, wait_post_processing, raise_on_error)\u001b[0m\n\u001b[0;32m    894\u001b[0m                 \u001b[0mfile_handle\u001b[0m\u001b[1;33m.\u001b[0m\u001b[0mwrite\u001b[0m\u001b[1;33m(\u001b[0m\u001b[1;34m\"\\n\"\u001b[0m\u001b[1;33m)\u001b[0m\u001b[1;33m\u001b[0m\u001b[1;33m\u001b[0m\u001b[0m\n\u001b[0;32m    895\u001b[0m             \u001b[1;32melse\u001b[0m\u001b[1;33m:\u001b[0m\u001b[1;33m\u001b[0m\u001b[1;33m\u001b[0m\u001b[0m\n\u001b[1;32m--> 896\u001b[1;33m                 \u001b[1;32mraise\u001b[0m \u001b[0mActivityFailedException\u001b[0m\u001b[1;33m(\u001b[0m\u001b[0merror_details\u001b[0m\u001b[1;33m=\u001b[0m\u001b[0mjson\u001b[0m\u001b[1;33m.\u001b[0m\u001b[0mdumps\u001b[0m\u001b[1;33m(\u001b[0m\u001b[0merror\u001b[0m\u001b[1;33m,\u001b[0m \u001b[0mindent\u001b[0m\u001b[1;33m=\u001b[0m\u001b[1;36m4\u001b[0m\u001b[1;33m)\u001b[0m\u001b[1;33m)\u001b[0m\u001b[1;33m\u001b[0m\u001b[1;33m\u001b[0m\u001b[0m\n\u001b[0m\u001b[0;32m    897\u001b[0m \u001b[1;33m\u001b[0m\u001b[0m\n\u001b[0;32m    898\u001b[0m         \u001b[0mfile_handle\u001b[0m\u001b[1;33m.\u001b[0m\u001b[0mwrite\u001b[0m\u001b[1;33m(\u001b[0m\u001b[1;34m\"\\n\"\u001b[0m\u001b[1;33m)\u001b[0m\u001b[1;33m\u001b[0m\u001b[1;33m\u001b[0m\u001b[0m\n",
      "\u001b[1;31mActivityFailedException\u001b[0m: ActivityFailedException:\n\tMessage: Activity Failed:\n{\n    \"error\": {\n        \"code\": \"UserError\",\n        \"message\": \"User program failed with ModuleNotFoundError: No module named 'onnx'\",\n        \"detailsUri\": \"https://aka.ms/azureml-known-errors\",\n        \"details\": [],\n        \"debugInfo\": {\n            \"type\": \"ModuleNotFoundError\",\n            \"message\": \"No module named 'onnx'\",\n            \"stackTrace\": \"  File \\\"/mnt/batch/tasks/shared/LS_root/jobs/myworkspace/azureml/pytorch_sample_1578647429_5ab88482/mounts/workspaceblobstore/azureml/pytorch_sample_1578647429_5ab88482/azureml-setup/context_manager_injector.py\\\", line 119, in execute_with_context\\n    runpy.run_path(sys.argv[0], globals(), run_name=\\\"__main__\\\")\\n  File \\\"/opt/miniconda/lib/python3.6/runpy.py\\\", line 263, in run_path\\n    pkg_name=pkg_name, script_name=fname)\\n  File \\\"/opt/miniconda/lib/python3.6/runpy.py\\\", line 96, in _run_module_code\\n    mod_name, mod_spec, pkg_name, script_name)\\n  File \\\"/opt/miniconda/lib/python3.6/runpy.py\\\", line 85, in _run_code\\n    exec(code, run_globals)\\n  File \\\"train.py\\\", line 7, in <module>\\n    import onnx\\n\"\n        }\n    },\n    \"time\": \"0001-01-01T00:00:00.000Z\"\n}\n\tInnerException None\n\tErrorResponse \n{\n    \"error\": {\n        \"message\": \"Activity Failed:\\n{\\n    \\\"error\\\": {\\n        \\\"code\\\": \\\"UserError\\\",\\n        \\\"message\\\": \\\"User program failed with ModuleNotFoundError: No module named 'onnx'\\\",\\n        \\\"detailsUri\\\": \\\"https://aka.ms/azureml-known-errors\\\",\\n        \\\"details\\\": [],\\n        \\\"debugInfo\\\": {\\n            \\\"type\\\": \\\"ModuleNotFoundError\\\",\\n            \\\"message\\\": \\\"No module named 'onnx'\\\",\\n            \\\"stackTrace\\\": \\\"  File \\\\\\\"/mnt/batch/tasks/shared/LS_root/jobs/myworkspace/azureml/pytorch_sample_1578647429_5ab88482/mounts/workspaceblobstore/azureml/pytorch_sample_1578647429_5ab88482/azureml-setup/context_manager_injector.py\\\\\\\", line 119, in execute_with_context\\\\n    runpy.run_path(sys.argv[0], globals(), run_name=\\\\\\\"__main__\\\\\\\")\\\\n  File \\\\\\\"/opt/miniconda/lib/python3.6/runpy.py\\\\\\\", line 263, in run_path\\\\n    pkg_name=pkg_name, script_name=fname)\\\\n  File \\\\\\\"/opt/miniconda/lib/python3.6/runpy.py\\\\\\\", line 96, in _run_module_code\\\\n    mod_name, mod_spec, pkg_name, script_name)\\\\n  File \\\\\\\"/opt/miniconda/lib/python3.6/runpy.py\\\\\\\", line 85, in _run_code\\\\n    exec(code, run_globals)\\\\n  File \\\\\\\"train.py\\\\\\\", line 7, in <module>\\\\n    import onnx\\\\n\\\"\\n        }\\n    },\\n    \\\"time\\\": \\\"0001-01-01T00:00:00.000Z\\\"\\n}\"\n    }\n}"
     ]
    }
   ],
   "source": [
    "run = exp.submit(est)\n",
    "run.wait_for_completion(show_output=True, wait_post_processing=True)"
   ]
  },
  {
   "cell_type": "code",
   "execution_count": 17,
   "metadata": {},
   "outputs": [
    {
     "ename": "NameError",
     "evalue": "name 'run' is not defined",
     "output_type": "error",
     "traceback": [
      "\u001b[1;31m---------------------------------------------------------------------------\u001b[0m",
      "\u001b[1;31mNameError\u001b[0m                                 Traceback (most recent call last)",
      "\u001b[1;32m<ipython-input-17-e4e9d818db2b>\u001b[0m in \u001b[0;36m<module>\u001b[1;34m\u001b[0m\n\u001b[1;32m----> 1\u001b[1;33m \u001b[0mrun\u001b[0m\u001b[1;33m.\u001b[0m\u001b[0mcancel\u001b[0m\u001b[1;33m(\u001b[0m\u001b[1;33m)\u001b[0m\u001b[1;33m\u001b[0m\u001b[1;33m\u001b[0m\u001b[0m\n\u001b[0m",
      "\u001b[1;31mNameError\u001b[0m: name 'run' is not defined"
     ]
    }
   ],
   "source": [
    "#run.cancel()"
   ]
  },
  {
   "cell_type": "markdown",
   "metadata": {},
   "source": [
    "You now have a model trained on a remote cluster. Retrieve all the metrics logged during the run, including the accuracy of the model:"
   ]
  },
  {
   "cell_type": "code",
   "execution_count": null,
   "metadata": {},
   "outputs": [],
   "source": [
    "run.get_metrics()"
   ]
  },
  {
   "cell_type": "markdown",
   "metadata": {},
   "source": [
    "## 9. Tune model hyperparameters"
   ]
  },
  {
   "cell_type": "markdown",
   "metadata": {},
   "source": [
    "Now that we've seen how to do a simple Scikit-learn training run using the SDK, let's see if we can further improve the accuracy of our model. We can optimize our model's hyperparameters using Azure Machine Learning's hyperparameter tuning capabilities.\n",
    "\n",
    "First, we will define the hyperparameter space to sweep over. Let's tune the `kernel` and `penalty` parameters. In this example we will use random sampling to try different configuration sets of hyperparameters to maximize our primary metric, `Accuracy`."
   ]
  },
  {
   "cell_type": "code",
   "execution_count": null,
   "metadata": {},
   "outputs": [],
   "source": [
    "from azureml.train.hyperdrive.runconfig import HyperDriveConfig\n",
    "from azureml.train.hyperdrive.sampling import BayesianParameterSampling, RandomParameterSampling\n",
    "from azureml.train.hyperdrive.run import PrimaryMetricGoal\n",
    "from azureml.train.hyperdrive.parameter_expressions import uniform, loguniform\n",
    "from azureml.train.hyperdrive.policy import BanditPolicy\n",
    "\n",
    "param_sampling = RandomParameterSampling({\n",
    "    '--dist-backend' : 'nccl',\n",
    "    '--dist-url': '$AZ_BATCHAI_PYTORCH_INIT_METHOD',\n",
    "    '--rank': '$AZ_BATCHAI_TASK_INDEX',\n",
    "    '--world-size': 2,\n",
    "    '--lr': loguniform(0.0005, 0.01),\n",
    "    '--momentum': uniform(0.45, 0.55),\n",
    "    '--weight-decay': uniform(1e-5, 1e-3)\n",
    "    })\n",
    "\n",
    "hyperdrive_run_config = HyperDriveConfig(estimator=est,\n",
    "                                         hyperparameter_sampling=param_sampling, \n",
    "                                         primary_metric_name='loss',\n",
    "                                         primary_metric_goal=PrimaryMetricGoal.MINIMIZE,\n",
    "                                         max_total_runs=16,\n",
    "                                         max_concurrent_runs=4,\n",
    "                                         policy=BanditPolicy(slack_factor = 0.1, evaluation_interval=1, delay_evaluation=1))"
   ]
  },
  {
   "cell_type": "markdown",
   "metadata": {},
   "source": [
    "Finally, lauch the hyperparameter tuning job."
   ]
  },
  {
   "cell_type": "code",
   "execution_count": null,
   "metadata": {},
   "outputs": [],
   "source": [
    "hyperdrive_run = experiment.submit(hyperdrive_run_config)\n",
    "hyperdrive_run.wait_for_completion(show_output=True, wait_post_processing=True)"
   ]
  },
  {
   "cell_type": "markdown",
   "metadata": {},
   "source": [
    "Often times, finding the best hyperparameter values for your model can be an iterative process, needing multiple tuning runs that learn from previous hyperparameter tuning runs. Reusing knowledge from these previous runs will accelerate the hyperparameter tuning process, thereby reducing the cost of tuning the model and will potentially improve the primary metric of the resulting model. When warm starting a hyperparameter tuning experiment with Bayesian sampling, trials from the previous run will be used as prior knowledge to intelligently pick new samples, so as to improve the primary metric. Additionally, when using Random or Grid sampling, any early termination decisions will leverage metrics from the previous runs to determine poorly performing training runs. \n",
    "\n",
    "Azure Machine Learning allows you to warm start your hyperparameter tuning run by leveraging knowledge from up to 5 previously completed hyperparameter tuning parent runs. \n",
    "\n",
    "Additionally, there might be occasions when individual training runs of a hyperparameter tuning experiment are cancelled due to budget constraints or fail due to other reasons. It is now possible to resume such individual training runs from the last checkpoint (assuming your training script handles checkpoints). Resuming an individual training run will use the same hyperparameter configuration and mount the storage used for that run. The training script should accept the \"--resume-from\" argument, which contains the checkpoint or model files from which to resume the training run. You can also resume individual runs as part of an experiment that spends additional budget on hyperparameter tuning. Any additional budget, after resuming the specified training runs is used for exploring additional configurations.\n",
    "\n",
    "For more information on warm starting and resuming hyperparameter tuning runs, please refer to the [Hyperparameter Tuning for Azure Machine Learning documentation](https://docs.microsoft.com/en-us/azure/machine-learning/service/how-to-tune-hyperparameters) "
   ]
  },
  {
   "cell_type": "markdown",
   "metadata": {},
   "source": [
    "When all jobs finish, we can find out the one that has the highest accuracy."
   ]
  },
  {
   "cell_type": "code",
   "execution_count": null,
   "metadata": {},
   "outputs": [],
   "source": [
    "best_run = hyperdrive_run.get_best_run_by_primary_metric()\n",
    "print(best_run.get_details()['runDefinition']['arguments'])"
   ]
  },
  {
   "cell_type": "markdown",
   "metadata": {},
   "source": [
    "## 9. Register model"
   ]
  },
  {
   "cell_type": "markdown",
   "metadata": {},
   "source": [
    "The last step in the training script wrote the file `model.pkl` in a directory named `outputs` in the VM of the cluster where the job is executed. `outputs` is a special directory in that all content in this  directory is automatically uploaded to your workspace.  This content appears in the run record in the experiment under your workspace. Hence, the model file is now also available in your workspace.\n",
    "\n",
    "You can see files associated with that run."
   ]
  },
  {
   "cell_type": "code",
   "execution_count": null,
   "metadata": {},
   "outputs": [],
   "source": [
    "best_run.get_file_names()"
   ]
  },
  {
   "cell_type": "markdown",
   "metadata": {},
   "source": [
    "Register the model in the workspace so that you (or other collaborators) can later query, examine, and deploy this model."
   ]
  },
  {
   "cell_type": "code",
   "execution_count": null,
   "metadata": {},
   "outputs": [],
   "source": [
    "from azureml.core import Model\n",
    "from azureml.core.resource_configuration import ResourceConfiguration\n",
    "\n",
    "model = best_run.register_model(model_name='pytorch-model',\n",
    "                                model_path='outputs/model.pt',\n",
    "                                description='PyTorch MNIST classification.',\n",
    "                                tags={'area': 'mnist', 'type': 'pytorch'})\n",
    "\n",
    "print(model.name, model.id, model.version, sep='\\n')"
   ]
  },
  {
   "cell_type": "markdown",
   "metadata": {},
   "source": [
    "Now, your model is ready for deployment."
   ]
  },
  {
   "cell_type": "markdown",
   "metadata": {},
   "source": [
    "## 10. Deployment"
   ]
  },
  {
   "cell_type": "markdown",
   "metadata": {},
   "source": [
    "No-code model deployment is currently in preview and supports various frameworks and model types including Tensorflow SavedModel format, ONNX models and Scikit-learn models. No code model deployment is supported for all built-in scikit-learn model types.\n",
    "\n",
    "The deployment will take a few minutes and will take place on an Azure Container Instance."
   ]
  },
  {
   "cell_type": "code",
   "execution_count": null,
   "metadata": {
    "scrolled": true
   },
   "outputs": [],
   "source": [
    "service_no_code = Model.deploy(workspace=ws,\n",
    "                               name='sample-service',\n",
    "                               models=[model])\n",
    "service_no_code.wait_for_deployment(show_output=True)"
   ]
  },
  {
   "cell_type": "code",
   "execution_count": null,
   "metadata": {},
   "outputs": [],
   "source": [
    "# If deployment fails, then retry with:\n",
    "# service_no_code.update(models=[model])"
   ]
  },
  {
   "cell_type": "code",
   "execution_count": null,
   "metadata": {
    "scrolled": true
   },
   "outputs": [],
   "source": [
    "service_no_code.get_logs()"
   ]
  },
  {
   "cell_type": "markdown",
   "metadata": {},
   "source": [
    "Convert this Webservice object into a JSON serialized dictionary, which lists all the details of the webservice."
   ]
  },
  {
   "cell_type": "code",
   "execution_count": null,
   "metadata": {
    "scrolled": true
   },
   "outputs": [],
   "source": [
    "service_no_code.serialize()"
   ]
  },
  {
   "cell_type": "markdown",
   "metadata": {},
   "source": [
    "## 11. Test Service"
   ]
  },
  {
   "cell_type": "markdown",
   "metadata": {},
   "source": [
    "The following code is an example of a Python client that can be used with the container."
   ]
  },
  {
   "cell_type": "code",
   "execution_count": null,
   "metadata": {},
   "outputs": [],
   "source": [
    "import json\n",
    "\n",
    "# Two sets of data to score, so we get two results back.\n",
    "data = {'data':\n",
    "        [\n",
    "            [ 1,2,3,4 ],\n",
    "            [ 10,9,8,7 ]\n",
    "        ]\n",
    "        }\n",
    "# Convert to JSON string.\n",
    "input_data = json.dumps(data)\n",
    "\n",
    "# Make the request and display the response.\n",
    "resp = service_no_code.run(input_data)\n",
    "print(resp)"
   ]
  },
  {
   "cell_type": "markdown",
   "metadata": {},
   "source": [
    "Delete the service to save cost."
   ]
  },
  {
   "cell_type": "code",
   "execution_count": null,
   "metadata": {},
   "outputs": [],
   "source": [
    "service_no_code.delete()"
   ]
  },
  {
   "cell_type": "markdown",
   "metadata": {},
   "source": [
    "## 11. Only Package models"
   ]
  },
  {
   "cell_type": "markdown",
   "metadata": {},
   "source": [
    "In some cases, you might want to create a Docker image without deploying the model (if, for example, you plan to deploy to Azure App Service). Or you might want to download the image and run it on a local Docker installation. You might even want to download the files used to build the image, inspect them, modify them, and build the image manually.\n",
    "\n",
    "Model packaging enables you to do these things. It packages all the assets needed to host a model as a web service and allows you to download either a fully built Docker image or the files needed to build one. There are two ways to use model packaging:\n",
    "\n",
    "Download a packaged model: Download a Docker image that contains the model and other files needed to host it as a web service.\n",
    "\n",
    "Generate a Dockerfile: Download the Dockerfile, model, entry script, and other assets needed to build a Docker image. You can then inspect the files or make changes before you build the image locally.\n",
    "\n",
    "Both packages can be used to get a local Docker image."
   ]
  },
  {
   "cell_type": "code",
   "execution_count": null,
   "metadata": {},
   "outputs": [],
   "source": [
    "SCORE_FOLDER_NAME = 'deployment'\n",
    "SCORE_FILE_NAME = 'score.py'"
   ]
  },
  {
   "cell_type": "code",
   "execution_count": null,
   "metadata": {},
   "outputs": [],
   "source": [
    "import os\n",
    "os.makedirs(os.path.join(\".\", SCORE_FOLDER_NAME), exist_ok=True)"
   ]
  },
  {
   "cell_type": "code",
   "execution_count": null,
   "metadata": {},
   "outputs": [],
   "source": [
    "%%writefile $SCORE_FOLDER_NAME/$SCORE_FILE_NAME\n",
    "\n",
    "import joblib\n",
    "import numpy as np\n",
    "import os\n",
    "\n",
    "from azureml.monitoring import ModelDataCollector\n",
    "from inference_schema.schema_decorators import input_schema, output_schema\n",
    "from inference_schema.parameter_types.numpy_parameter_type import NumpyParameterType\n",
    "from inference_schema.parameter_types.standard_py_parameter_type import StandardPythonParameterType\n",
    "\n",
    "# The init() method is called once, when the web service starts up.\n",
    "# Typically you would deserialize the model file, as shown here using joblib,\n",
    "# and store it in a global variable so your run() method can access it later.\n",
    "def init():\n",
    "    global model\n",
    "    global inputs_dc, prediction_dc\n",
    "    # The AZUREML_MODEL_DIR environment variable indicates\n",
    "    # a directory containing the model file you registered.\n",
    "    model_filename = 'sample-model'\n",
    "    model_path = os.path.join(os.environ['AZUREML_MODEL_DIR'], model_filename)\n",
    "    model = joblib.load(model_path)\n",
    "    inputs_dc = ModelDataCollector(\"sample-model\", designation=\"inputs\", feature_names=[\"feat1\", \"feat2\", \"feat3\", \"feat4\"])\n",
    "    prediction_dc = ModelDataCollector(\"sample-model\", designation=\"predictions\", feature_names=[\"prediction\"])\n",
    "\n",
    "# The run() method is called each time a request is made to the scoring API.\n",
    "#\n",
    "# Shown here are the optional input_schema and output_schema decorators\n",
    "# from the inference-schema pip package. Using these decorators on your\n",
    "# run() method parses and validates the incoming payload against\n",
    "# the example input you provide here. This will also generate a Swagger\n",
    "# API document for your web service.\n",
    "@input_schema('data', NumpyParameterType(np.array([[0.1, 1.2, 2.3, 3.4]])))\n",
    "@output_schema('predict', StandardPythonParameterType([['Iris-virginica']]))\n",
    "def run(data):\n",
    "    # Use the model object loaded by init().\n",
    "    result = { 'predict': model.predict(data) }\n",
    "\n",
    "    # You can return any JSON-serializable object.\n",
    "    return result"
   ]
  },
  {
   "cell_type": "code",
   "execution_count": null,
   "metadata": {
    "scrolled": true
   },
   "outputs": [],
   "source": [
    "from azureml.core import Environment\n",
    "from azureml.core.conda_dependencies import CondaDependencies\n",
    "\n",
    "environment = Environment(name='my-sample-environment')\n",
    "environment.python.conda_dependencies = CondaDependencies.create(pip_packages=[\n",
    "    'azureml-defaults',\n",
    "    'joblib',\n",
    "    'numpy',\n",
    "    'scikit-learn',\n",
    "    'inference-schema',\n",
    "    'inference-schema[numpy-support]',\n",
    "    'azureml-monitoring'\n",
    "])\n",
    "environment.register(workspace=ws)"
   ]
  },
  {
   "cell_type": "code",
   "execution_count": null,
   "metadata": {},
   "outputs": [],
   "source": [
    "from azureml.core.model import InferenceConfig\n",
    "\n",
    "inference_config = InferenceConfig(entry_script=SCORE_FILE_NAME,\n",
    "                                   source_directory=SCORE_FOLDER_NAME,\n",
    "                                   description='SVC classification for iris dataset.',\n",
    "                                   environment=environment)"
   ]
  },
  {
   "cell_type": "code",
   "execution_count": null,
   "metadata": {
    "scrolled": true
   },
   "outputs": [],
   "source": [
    "package = Model.package(ws, [model], inference_config)\n",
    "package.wait_for_creation(show_output=True)"
   ]
  },
  {
   "cell_type": "code",
   "execution_count": null,
   "metadata": {
    "scrolled": true
   },
   "outputs": [],
   "source": [
    "acr = package.get_container_registry()\n",
    "print(\"Address:\", acr.address)"
   ]
  },
  {
   "cell_type": "markdown",
   "metadata": {},
   "source": [
    "Pull the package output to the local machine. This can only be used with a Docker image package. Docker must be running on the machine."
   ]
  },
  {
   "cell_type": "code",
   "execution_count": null,
   "metadata": {},
   "outputs": [],
   "source": [
    "package.pull()"
   ]
  },
  {
   "cell_type": "markdown",
   "metadata": {},
   "source": [
    "## 12. Deployment with inference_config"
   ]
  },
  {
   "cell_type": "code",
   "execution_count": null,
   "metadata": {},
   "outputs": [],
   "source": [
    "service = Model.deploy(workspace=ws,\n",
    "                       name='sample-service-new',\n",
    "                       models=[model],\n",
    "                       inference_config=inference_config,\n",
    "                       overwrite=True)\n",
    "service.wait_for_deployment(show_output=True)"
   ]
  },
  {
   "cell_type": "code",
   "execution_count": null,
   "metadata": {},
   "outputs": [],
   "source": [
    "# If deployment fails, then retry with:\n",
    "# service.update(models=[model], inference_config=inference_config)"
   ]
  },
  {
   "cell_type": "code",
   "execution_count": null,
   "metadata": {},
   "outputs": [],
   "source": [
    "service.get_logs()"
   ]
  },
  {
   "cell_type": "code",
   "execution_count": null,
   "metadata": {},
   "outputs": [],
   "source": [
    "service.serialize()"
   ]
  },
  {
   "cell_type": "code",
   "execution_count": null,
   "metadata": {
    "scrolled": true
   },
   "outputs": [],
   "source": [
    "import json\n",
    "\n",
    "# Two sets of data to score, so we get two results back.\n",
    "data = {'data':\n",
    "        [\n",
    "            [ 1,2,3,4 ],\n",
    "            [ 10,9,8,7 ]\n",
    "        ]\n",
    "        }\n",
    "# Convert to JSON string.\n",
    "input_data = json.dumps(data)\n",
    "\n",
    "# Make the request and display the response.\n",
    "resp = service.run(input_data)\n",
    "print(resp)"
   ]
  },
  {
   "cell_type": "code",
   "execution_count": null,
   "metadata": {},
   "outputs": [],
   "source": [
    "service.delete()"
   ]
  }
 ],
 "metadata": {
  "kernelspec": {
   "display_name": "Python 3",
   "language": "python",
   "name": "python3"
  },
  "language_info": {
   "codemirror_mode": {
    "name": "ipython",
    "version": 3
   },
   "file_extension": ".py",
   "mimetype": "text/x-python",
   "name": "python",
   "nbconvert_exporter": "python",
   "pygments_lexer": "ipython3",
   "version": "3.7.4"
  }
 },
 "nbformat": 4,
 "nbformat_minor": 2
}
