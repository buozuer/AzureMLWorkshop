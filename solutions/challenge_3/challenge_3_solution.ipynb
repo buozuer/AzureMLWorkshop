{
 "cells": [
  {
   "cell_type": "markdown",
   "metadata": {},
   "source": [
    "# Challenge 1 - Basics of Azure ML"
   ]
  },
  {
   "cell_type": "markdown",
   "metadata": {},
   "source": [
    "As part of this challenge you will get familar with the basic concepts of [Azure Machine Learning](https://azure.microsoft.com/en-us/services/machine-learning/). Relevant links will provided in the Notebook and help you to solve the tasks.\n",
    "\n",
    "Generally a very good source of information is the [Python SDK reference](https://docs.microsoft.com/en-us/python/api/overview/azure/ml/intro?view=azure-ml-py) for Azure Machine learning."
   ]
  },
  {
   "cell_type": "markdown",
   "metadata": {},
   "source": [
    "## 1. Import Azure ML Python Python SDK"
   ]
  },
  {
   "cell_type": "code",
   "execution_count": null,
   "metadata": {},
   "outputs": [],
   "source": [
    "import azureml.core\n",
    "print(\"SDK version:\", azureml.core.VERSION)"
   ]
  },
  {
   "cell_type": "markdown",
   "metadata": {},
   "source": [
    "## 2. Authentication and initializing Azure Machine Learning Workspace"
   ]
  },
  {
   "cell_type": "markdown",
   "metadata": {},
   "source": [
    "As a first step you have to authenticate against the Azure [Machine Learning Workspace](https://ml.azure.com/). This can be achieved in different ways:\n",
    "\n",
    "1. **Interactive Login Authentication:** The interactive authentication is suitable for local experimentation on your own computer.\n",
    "2. **Azure CLI Authentication:** Azure CLI authentication is suitable if you are already using Azure CLI for managing Azure resources, and want to sign in only once.\n",
    "3. **Managed Service Identity (MSI) Authentication:** The MSI authentication is suitable for automated workflows, for example as part of Azure Devops build.\n",
    "4. **Service Principal Authentication:** The Service Principal authentication is suitable for automated workflows, for example as part of Azure Devops build.\n",
    "\n",
    "For now, we will use the interactive authentication, which is the default mode when using Azure ML SDK. When you connect to your workspace using `Workspace.from_config`, you will get an interactive login dialog."
   ]
  },
  {
   "cell_type": "code",
   "execution_count": null,
   "metadata": {},
   "outputs": [],
   "source": [
    "from azureml.core import Workspace\n",
    "\n",
    "ws = Workspace.from_config()"
   ]
  },
  {
   "cell_type": "markdown",
   "metadata": {},
   "source": [
    "Note the user you're authenticated as must have access to the subscription and resource group. If you receive an error\n",
    "```\n",
    "AuthenticationException: You don't have access to xxxxxx-xxxx-xxx-xxx-xxxxxxxxxx subscription. All the subscriptions that you have access to = ...\n",
    "```\n",
    "check that the you used correct login and entered the correct subscription ID.\n",
    "\n",
    "Alternatively, you can also specify the details of your workspace."
   ]
  },
  {
   "cell_type": "code",
   "execution_count": null,
   "metadata": {},
   "outputs": [],
   "source": [
    "'''\n",
    "# Alternative login method\n",
    "\n",
    "from azureml.core.authentication import InteractiveLoginAuthentication\n",
    "\n",
    "interactive_auth = InteractiveLoginAuthentication()\n",
    "\n",
    "ws = Workspace(subscription_id='<your-subscription-id>',\n",
    "               resource_group='<your-resource-group-name>',\n",
    "               workspace_name='<your-workspace-name>',\n",
    "               auth=interactive_auth)\n",
    "'''"
   ]
  },
  {
   "cell_type": "markdown",
   "metadata": {},
   "source": [
    "After we logged in, we can print the Worspace details."
   ]
  },
  {
   "cell_type": "markdown",
   "metadata": {},
   "source": [
    "**TASK**: Print the workspace details below. See here for the workspace object reference: https://docs.microsoft.com/en-us/python/api/azureml-core/azureml.core.workspace.workspace?view=azure-ml-py"
   ]
  },
  {
   "cell_type": "code",
   "execution_count": null,
   "metadata": {
    "scrolled": true
   },
   "outputs": [],
   "source": [
    "print(\"Workspace name: \" + ws.name, \n",
    "      \"Azure region: \" + ws.location, \n",
    "      \"Subscription id: \" + ws.subscription_id, \n",
    "      \"Resource group: \" + ws.resource_group, sep = '\\n')"
   ]
  },
  {
   "cell_type": "markdown",
   "metadata": {},
   "source": [
    "## 3. Create and register datastore"
   ]
  },
  {
   "cell_type": "markdown",
   "metadata": {},
   "source": [
    "**TODO**"
   ]
  },
  {
   "cell_type": "markdown",
   "metadata": {},
   "source": [
    "To register an Azure blob container as a datastore, use [register_azure_blob-container()](https://docs.microsoft.com/python/api/azureml-core/azureml.core.datastore(class)?view=azure-ml-py#register-azure-blob-container-workspace--datastore-name--container-name--account-name--sas-token-none--account-key-none--protocol-none--endpoint-none--overwrite-false--create-if-not-exists-false--skip-validation-false--blob-cache-timeout-none--grant-workspace-access-false--subscription-id-none--resource-group-none-).\n",
    "\n",
    "The following code creates and registers the `blob_datastore_name` datastore to the `ws` workspace. This datastore accesses the `my-container-name` blob container on the `my-account-name` storage account, by using the provided account key."
   ]
  },
  {
   "cell_type": "code",
   "execution_count": null,
   "metadata": {},
   "outputs": [],
   "source": [
    "blob_datastore_name='<my-name-in-ws>' # Name of the datastore to workspace\n",
    "container_name = '<my-container-name>' # Name of Azure blob container\n",
    "account_name = '<my-account-name>' # Storage account name\n",
    "account_key = '<my-account-key>' # Storage account key\n",
    "\n",
    "blob_datastore = Datastore.register_azure_blob_container(workspace=ws, \n",
    "                                                         datastore_name=blob_datastore_name, \n",
    "                                                         container_name=container_name, \n",
    "                                                         account_name=account_name,\n",
    "                                                         account_key=account_key)"
   ]
  },
  {
   "cell_type": "markdown",
   "metadata": {},
   "source": [
    "## 4. Upload and register data"
   ]
  },
  {
   "cell_type": "markdown",
   "metadata": {},
   "source": [
    "Every workspace comes with a default [datastore](https://docs.microsoft.com/en-us/azure/machine-learning/service/how-to-access-data) (and you can register more) which is backed by the Azure blob storage account associated with the workspace. We can use it to transfer data from local to the cloud, and create Dataset from it. We will now upload the Iris data to the default datastore (blob) within your workspace.\n",
    "\n",
    "By creating a dataset, you create a reference to the data source location. If you applied any subsetting transformations to the dataset, they will be stored in the dataset as well. The data remains in its existing location, so no extra storage cost is incurred."
   ]
  },
  {
   "cell_type": "code",
   "execution_count": null,
   "metadata": {
    "scrolled": true
   },
   "outputs": [],
   "source": [
    "# List all datastores registered in the current workspace\n",
    "datastores = ws.datastores\n",
    "for name, datastore in datastores.items():\n",
    "    print(name, datastore.datastore_type)"
   ]
  },
  {
   "cell_type": "markdown",
   "metadata": {},
   "source": [
    "For this challenge we will use the [default datastore](https://docs.microsoft.com/en-us/azure/machine-learning/how-to-access-data#get-datastores-from-your-workspace) that comes with the Azure Machine Learning Workspace."
   ]
  },
  {
   "cell_type": "markdown",
   "metadata": {},
   "source": [
    "**TASK**: Retrieve the default datastore for this workspace.\n",
    "\n",
    "Hint: Same link as in the previous hint."
   ]
  },
  {
   "cell_type": "code",
   "execution_count": null,
   "metadata": {},
   "outputs": [],
   "source": [
    "# get the default datastore\n",
    "datastore = ws.get_default_datastore()\n",
    "print(datastore.name, datastore.datastore_type, datastore.account_name, datastore.container_name, sep=\"\\n\")"
   ]
  },
  {
   "cell_type": "markdown",
   "metadata": {},
   "source": [
    "**TASK**: Upload the file `./train-dataset/iris.csv` to the target path `train-dataset/tabular/` on the default datastore.\n",
    "\n",
    "Hint: https://docs.microsoft.com/en-us/python/api/azureml-core/azureml.data.azure_storage_datastore.azureblobdatastore"
   ]
  },
  {
   "cell_type": "code",
   "execution_count": null,
   "metadata": {},
   "outputs": [],
   "source": [
    "import os\n",
    "\n",
    "datastore.upload(src_dir = os.path.join('.', 'train_dataset'),\n",
    "                      target_path = 'train_dataset/image_dataset',\n",
    "                      overwrite = True,\n",
    "                      show_progress = True)"
   ]
  },
  {
   "cell_type": "markdown",
   "metadata": {},
   "source": [
    "Now we will register a dataset in the Azure Machine Learning Workspace as a file dataset. A file dataset can be mounted to the compute engine. When you mount a file system, you attach that file system to a directory (mount point) and make it available to the system. Because mounting load files at the time of processing, it is usually faster than download.\n",
    "Note: mounting is only available for Linux-based compute (DSVM/VM, AMLCompute, HDInsights)."
   ]
  },
  {
   "cell_type": "code",
   "execution_count": null,
   "metadata": {
    "scrolled": true
   },
   "outputs": [],
   "source": [
    "from azureml.core import Dataset\n",
    "\n",
    "file_dataset = Dataset.File.from_files(path = [(datastore, 'train_dataset/image_dataset/hymenoptera_data')])\n",
    "file_dataset = file_dataset.register(workspace=ws,\n",
    "                                     name='hymenoptera_data',\n",
    "                                     description='hymenoptera training dataset',\n",
    "                                     create_new_version = True)\n",
    "\n",
    "file_dataset.to_path()"
   ]
  },
  {
   "cell_type": "markdown",
   "metadata": {},
   "source": [
    "## 3. Create Compute Engine"
   ]
  },
  {
   "cell_type": "markdown",
   "metadata": {},
   "source": [
    "In this sample, we want to train a simple scikit-learn model on a remote compute engine on Azure. To do so, we first must create a [compute target](https://docs.microsoft.com/azure/machine-learning/service/concept-azure-machine-learning-architecture#compute-target).\n",
    "\n",
    "In this challenge, we want to use Azure ML managed compute ([AmlCompute](https://docs.microsoft.com/azure/machine-learning/service/how-to-set-up-training-targets#amlcompute)) for our remote training compute resource. Once this is created, you are ready to train on your remote compute."
   ]
  },
  {
   "cell_type": "markdown",
   "metadata": {},
   "source": [
    "#### **TASK:** Create a machine learning compute target.\n",
    "\n",
    "Create an Azure Machine Learning Compute cluster and folow the steps one to four.\n",
    "1. Check whether the cluster with the given name already exists.\n",
    "2. Create the configuration (this step is local and only takes a second). Use the SKU `STANDARD_D2_V2` and a maximum of 4 nodes.\n",
    "3. Create the cluster (this step will take about 20 seconds)\n",
    "4. Provision the VMs to bring the cluster to the initial size. This step will take about 3-5 minutes and is providing only sparse output in the process. Please make sure to wait until the call returns before moving to the next cell.\n",
    "\n",
    "Hint: https://docs.microsoft.com/en-us/python/api/azureml-core/azureml.core.computetarget?view=azure-ml-py"
   ]
  },
  {
   "cell_type": "code",
   "execution_count": null,
   "metadata": {},
   "outputs": [],
   "source": [
    "from azureml.core.compute import ComputeTarget, AmlCompute\n",
    "from azureml.core.compute_target import ComputeTargetException\n",
    "\n",
    "# choose a name for your cluster\n",
    "cluster_name = \"gpucluster\"\n",
    "\n",
    "try:\n",
    "    compute_target = ComputeTarget(workspace=ws, name=cluster_name)\n",
    "    print('Found existing compute target')\n",
    "except ComputeTargetException:\n",
    "    print('Creating a new compute target...')\n",
    "    compute_config = AmlCompute.provisioning_configuration(vm_size='STANDARD_NC6',\n",
    "                                                           max_nodes=4)\n",
    "\n",
    "    # create the cluster\n",
    "    compute_target = ComputeTarget.create(ws, cluster_name, compute_config)\n",
    "\n",
    "    # can poll for a minimum number of nodes and for a specific timeout.\n",
    "    # if no min node count is provided it uses the scale settings for the cluster\n",
    "    compute_target.wait_for_completion(show_output=True, min_node_count=None, timeout_in_minutes=20)\n",
    "\n",
    "# use get_status() to get a detailed status for the current cluster. \n",
    "print(compute_target.get_status().serialize())"
   ]
  },
  {
   "cell_type": "markdown",
   "metadata": {},
   "source": [
    "## 4. Create a project directory"
   ]
  },
  {
   "cell_type": "markdown",
   "metadata": {},
   "source": [
    "Create a directory that will contain all the necessary code from your local machine that you will need access to on the remote resource. This includes the training script and any additional files your training script depends on."
   ]
  },
  {
   "cell_type": "code",
   "execution_count": null,
   "metadata": {},
   "outputs": [],
   "source": [
    "TRAIN_FOLDER_NAME = 'train_new'\n",
    "TRAIN_FILE_NAME = 'train.py'"
   ]
  },
  {
   "cell_type": "markdown",
   "metadata": {},
   "source": [
    "## 5. Create a training script "
   ]
  },
  {
   "cell_type": "markdown",
   "metadata": {},
   "source": [
    "Now you will need to create your training scripts in your project folder. This will be done in the next step. In practice, you should be able to take any custom training script as is and run it with Azure ML without having to modify your code.\n",
    "\n",
    "If you would like to use Azure ML's [tracking and metrics](https://docs.microsoft.com/azure/machine-learning/service/concept-azure-machine-learning-architecture#metrics) capabilities, you will have to add a small amount of Azure ML code inside your training script.\n",
    "\n",
    "In `train_iris.py`, we will log some metrics to our Azure ML run. To do so, we will access the Azure ML Run object within the script:\n",
    "\n",
    "```python\n",
    "from azureml.core.run import Run\n",
    "run = Run.get_context()\n",
    "```\n",
    "\n",
    "Further within `train_iris.py`, we log the kernel and penalty parameters, and the highest accuracy the model achieves:\n",
    "\n",
    "```python\n",
    "run.log('Kernel type', np.string(args.kernel))\n",
    "run.log('Penalty', np.float(args.penalty))\n",
    "\n",
    "run.log('Accuracy', np.float(accuracy))\n",
    "```\n",
    "\n",
    "These run metrics will become particularly important when we begin hyperparameter tuning our model in the \"Tune model hyperparameters\" section."
   ]
  },
  {
   "cell_type": "markdown",
   "metadata": {},
   "source": [
    "**TASK**: The training script below misses to log a few of the metrics. Find the `???` and complete the script"
   ]
  },
  {
   "cell_type": "markdown",
   "metadata": {},
   "source": [
    "Link: https://pytorch.org/docs/stable/torchvision/models.html"
   ]
  },
  {
   "cell_type": "code",
   "execution_count": null,
   "metadata": {},
   "outputs": [],
   "source": [
    "%%writefile $TRAIN_FOLDER_NAME/$TRAIN_FILE_NAME\n",
    "\n",
    "from __future__ import print_function\n",
    "import argparse\n",
    "import datetime\n",
    "import time\n",
    "import os\n",
    "import onnx\n",
    "\n",
    "import torch\n",
    "import torch.nn as nn\n",
    "import torch.nn.parallel\n",
    "import torch.optim as optim\n",
    "import torch.utils.data\n",
    "import torch.utils.data.distributed\n",
    "import torchvision\n",
    "from torchvision import transforms\n",
    "\n",
    "import utils\n",
    "\n",
    "from azureml.core import Dataset, Run\n",
    "run = Run.get_context() # get the Azure ML run object\n",
    "\n",
    "\n",
    "def train_one_epoch(model, criterion, optimizer, data_loader, device, epoch):\n",
    "    start_time = time.time()\n",
    "\n",
    "    # Create objects for tracking parameters\n",
    "    img_processing = utils.AverageMeter()\n",
    "    batch_time = utils.AverageMeter()\n",
    "    losses = utils.AverageMeter()\n",
    "    accuracies1 = utils.AverageMeter()\n",
    "    accuracies5 = utils.AverageMeter()\n",
    "    lr = utils.AverageMeter()\n",
    "    \n",
    "    # Put model in train mode\n",
    "    print('Model in training state')\n",
    "    model.train()\n",
    "\n",
    "    for i, (image, target) in enumerate(data_loader):\n",
    "        print('Iteration {0}'.format(i))\n",
    "        image, target = image.to(device), target.to(device)\n",
    "        output = model(image)\n",
    "        loss = criterion(output, target)\n",
    "\n",
    "        # Compute gradient and do SGD step\n",
    "        optimizer.zero_grad()\n",
    "        loss.backward()\n",
    "        optimizer.step()\n",
    "\n",
    "        # Measure accuracy and loss\n",
    "        acc1, acc5 = utils.accuracy(output, target, topk=(1, 5))\n",
    "        batch_size = image.shape[0]\n",
    "        losses.update(val=loss.item(), n=batch_size)\n",
    "        accuracies1.update(val=acc1.item(), n=batch_size)\n",
    "        accuracies5.update(val=acc5.item(), n=batch_size)\n",
    "        batch_time.update(val=time.time() - start_time)\n",
    "        img_processing.update(val=batch_size / (time.time() - start_time))\n",
    "        lr.update(val=optimizer.param_groups[0][\"lr\"])\n",
    "\n",
    "        # Log metrics to Azure ML\n",
    "        run.log(name='train_loss', value=loss.item())\n",
    "        run.log(name='train_acc1', value=acc1.item())\n",
    "        run.log(name='train_acc5', value=acc5.item())\n",
    "        run.log(name='train_imgs/s', value=batch_size / (time.time() - start_time))\n",
    "        run.log(name='train_lr', value=optimizer.param_groups[0][\"lr\"])\n",
    "    \n",
    "    # Synchronize AverageMeters between processes --> leads to non working state in single node run\n",
    "    #img_processing.synchronize_between_processes(device=device)\n",
    "    #losses.synchronize_between_processes(device=device)\n",
    "    #accuracies1.synchronize_between_processes(device=device)\n",
    "    #accuracies5.synchronize_between_processes(device=device)\n",
    "\n",
    "    # Log metrics to Azure ML\n",
    "    run.log(name='train_loss_avg', value=losses.avg)\n",
    "    run.log(name='train_acc1_avg', value=accuracies1.avg)\n",
    "    run.log(name='train_acc5_avg', value=accuracies5.avg)\n",
    "    run.log(name='train_imgs/s_avg', value=img_processing.avg)\n",
    "\n",
    "    print('[Training] Epoch {epoch} Acc@1 {accuracies1.avg:.3f} Acc@5 {accuracies5.avg:.3f} Loss {losses.avg:.3f} Took {time}'\n",
    "          .format(epoch=epoch, accuracies1=accuracies1, accuracies5=accuracies5, losses=losses, time=(time.time()-start_time)))\n",
    "\n",
    "\n",
    "def evaluate(model, criterion, data_loader, device, epoch):\n",
    "    # Create objects for tracking parameters\n",
    "    losses = utils.AverageMeter()\n",
    "    accuracies1 = utils.AverageMeter()\n",
    "    accuracies5 = utils.AverageMeter()\n",
    "    \n",
    "    # Put model in eval mode \n",
    "    model.eval()\n",
    "\n",
    "    with torch.no_grad():\n",
    "        for i, (image, target) in enumerate(data_loader):\n",
    "            image = image.to(device, non_blocking=True)\n",
    "            target = target.to(device, non_blocking=True)\n",
    "            output = model(image)\n",
    "            loss = criterion(output, target)\n",
    "\n",
    "            # Measure accuracy and loss\n",
    "            acc1, acc5 = utils.accuracy(output, target, topk=(1, 5))\n",
    "            batch_size = image.shape[0]\n",
    "            losses.update(val=loss.item(), n=batch_size)\n",
    "            accuracies1.update(val=acc1.item(), n=batch_size)\n",
    "            accuracies5.update(val=acc5.item(), n=batch_size)\n",
    "\n",
    "            # Log metrics to Azure ML\n",
    "            run.log(name='val_loss', value=loss.item())\n",
    "            run.log(name='val_acc1', value=acc1.item())\n",
    "            run.log(name='val_acc5', value=acc5.item())\n",
    "    \n",
    "    # Synchronize AverageMeters between processes --> leads to non working state in single node run\n",
    "    #losses.synchronize_between_processes(device=device)\n",
    "    #accuracies1.synchronize_between_processes(device=device)\n",
    "    #accuracies5.synchronize_between_processes(device=device)\n",
    "\n",
    "    # Log metrics to Azure ML\n",
    "    run.log(name='val_loss_avg', value=losses.avg)\n",
    "    run.log(name='val_acc1_avg', value=accuracies1.avg)\n",
    "    run.log(name='val_acc5_avg', value=accuracies5.avg)\n",
    "\n",
    "    print('[Validation] Epoch {epoch} Acc@1 {accuracies1.avg:.3f} Acc@5 {accuracies5.avg:.3f} Loss {losses.avg:.3f}'\n",
    "          .format(epoch=epoch, accuracies1=accuracies1, accuracies5=accuracies5, losses=losses))\n",
    "\n",
    "\n",
    "def load_data(traindir, valdir, distributed, input_size):\n",
    "    normalize = transforms.Normalize(mean=[0.485, 0.456, 0.406],\n",
    "                                     std=[0.229, 0.224, 0.225])\n",
    "    \n",
    "    # Load training data\n",
    "    print('Loading training data')\n",
    "    st = time.time()\n",
    "    dataset = torchvision.datasets.ImageFolder(\n",
    "        traindir,\n",
    "        transforms.Compose([\n",
    "            transforms.RandomResizedCrop(input_size),\n",
    "            transforms.RandomHorizontalFlip(),\n",
    "            transforms.ToTensor(),\n",
    "            normalize,\n",
    "        ]))\n",
    "    print('Took {0}'.format(time.time() - st))\n",
    "\n",
    "    # Load validation data\n",
    "    print('Loading validation data')\n",
    "    dataset_test = torchvision.datasets.ImageFolder(\n",
    "        valdir,\n",
    "        transforms.Compose([\n",
    "            transforms.Resize(input_size + 32),\n",
    "            transforms.CenterCrop(input_size),\n",
    "            transforms.ToTensor(),\n",
    "            normalize,\n",
    "        ]))\n",
    "    \n",
    "    # Create data sampler\n",
    "    print('Creating data sampler')\n",
    "    if distributed:\n",
    "        train_sampler = torch.utils.data.distributed.DistributedSampler(dataset)\n",
    "        test_sampler = torch.utils.data.distributed.DistributedSampler(dataset_test)\n",
    "    else:\n",
    "        train_sampler = None #torch.utils.data.RandomSampler(dataset) --> leads to non working state in single node run\n",
    "        test_sampler = None #torch.utils.data.SequentialSampler(dataset_test) --> leads to non working state in single node run\n",
    "\n",
    "    return dataset, dataset_test, train_sampler, test_sampler\n",
    "\n",
    "\n",
    "def main(args):\n",
    "    print(args)\n",
    "\n",
    "    # Create output directory\n",
    "    print('Create output dir and paths')\n",
    "    if args.output_dir:\n",
    "        utils.mkdir(path=os.path.join('.', args.output_dir))\n",
    "    train_dir = os.path.join(args.data_path, 'train')\n",
    "    val_dir = os.path.join(args.data_path, 'val')\n",
    "    num_classes = len(train_dir)\n",
    "    \n",
    "    # Initialize distributed mode\n",
    "    print('Initialize distributed mode')\n",
    "    utils.init_distributed_mode(args=args)\n",
    "\n",
    "    # Create model\n",
    "    print('Create model')\n",
    "    model, input_size, params_to_update = utils.initialize_model(num_classes=num_classes, args=args)\n",
    "    \n",
    "    # Load data\n",
    "    print('Load data')\n",
    "    dataset, dataset_test, train_sampler, test_sampler = load_data(traindir=train_dir,\n",
    "                                                                   valdir=val_dir,\n",
    "                                                                   distributed=args.distributed,\n",
    "                                                                   input_size=input_size)\n",
    "    data_loader = torch.utils.data.DataLoader(dataset,\n",
    "                                              batch_size=args.batch_size,\n",
    "                                              sampler=train_sampler,\n",
    "                                              num_workers=args.workers,\n",
    "                                              shuffle=(train_sampler is None),\n",
    "                                              pin_memory=True)\n",
    "    data_loader_test = torch.utils.data.DataLoader(dataset_test,\n",
    "                                                   batch_size=args.batch_size,\n",
    "                                                   sampler=test_sampler, \n",
    "                                                   num_workers=args.workers,\n",
    "                                                   shuffle=(test_sampler is None),\n",
    "                                                   pin_memory=True)\n",
    "    \n",
    "    # Create criterion\n",
    "    print('Creating criterion')\n",
    "    criterion = nn.CrossEntropyLoss().to(args.device)\n",
    "\n",
    "    # Create optimizer\n",
    "    print('Creating optimizer')\n",
    "    optimizer = torch.optim.SGD(\n",
    "        params_to_update,\n",
    "        lr=args.lr,\n",
    "        momentum=args.momentum,\n",
    "        weight_decay=args.weight_decay)\n",
    "    \n",
    "    # Create lr scheduler\n",
    "    print('Creating lr scheduler')\n",
    "    lr_scheduler = torch.optim.lr_scheduler.StepLR(\n",
    "        optimizer,\n",
    "        step_size=args.lr_step_size,\n",
    "        gamma=args.lr_gamma)\n",
    "    \n",
    "    # Resume from checkpoint\n",
    "    if args.resume:\n",
    "        print('Resuming from checkpoint {0}')\n",
    "        checkpoint = torch.load(args.resume, map_location='cpu')\n",
    "        model.module.load_state_dict(checkpoint['model'])\n",
    "        optimizer.load_state_dict(checkpoint['optimizer'])\n",
    "        lr_scheduler.load_state_dict(checkpoint['lr_scheduler'])\n",
    "        args.start_epoch = checkpoint['epoch'] + 1\n",
    "    \n",
    "    if args.test_only:\n",
    "        # Test script only\n",
    "        print('Testing only')\n",
    "        evaluate(model, criterion, data_loader_test, device=args.device, epoch=0)\n",
    "\n",
    "    else:\n",
    "        # Train model\n",
    "        print('Start training')\n",
    "        start_time = time.time()\n",
    "\n",
    "        for epoch in range(args.start_epoch, args.epochs):\n",
    "            #if args.distributed: --> leads to non working state in single node run\n",
    "            #    train_sampler.set_epoch(epoch)\n",
    "            print('Epoch {0}'.format(epoch))\n",
    "\n",
    "            # Train one epoch\n",
    "            train_one_epoch(model, criterion, optimizer, data_loader, args.device, epoch)\n",
    "            lr_scheduler.step()\n",
    "\n",
    "            # Evauluate on val data\n",
    "            evaluate(model, criterion, data_loader_test, args.device, epoch)\n",
    "\n",
    "            # Save checkpoints after each epoch\n",
    "            if args.output_dir:\n",
    "                checkpoint = {\n",
    "                    'model': model.module.state_dict(),\n",
    "                    'optimizer': optimizer.state_dict(),\n",
    "                    'lr_scheduler': lr_scheduler.state_dict(),\n",
    "                    'epoch': epoch,\n",
    "                    'args': args}\n",
    "                utils.save_on_master(\n",
    "                    checkpoint,\n",
    "                    os.path.join(args.output_dir, 'model_{}.pth'.format(epoch)))\n",
    "                utils.save_on_master(\n",
    "                    checkpoint,\n",
    "                    os.path.join(args.output_dir, 'checkpoint.pth'))\n",
    "\n",
    "        total_time = time.time() - start_time\n",
    "        total_time_str = str(datetime.timedelta(seconds=int(total_time)))\n",
    "        print('Training time {}'.format(total_time_str))\n",
    "    \n",
    "    # Save model as pt and ONNX\n",
    "    if isinstance(model, torch.nn.DataParallel) or isinstance(model, torch.nn.parallel.DistributedDataParallel):\n",
    "        model = model.module\n",
    "    dummy_input = torch.randn(args.batch_size, 3, input_size, input_size, requires_grad=True, device=args.device)\n",
    "    torch.save(model, os.path.join(args.output_dir, 'model.pt'))\n",
    "    torch.onnx.export(model,\n",
    "                      dummy_input,\n",
    "                      os.path.join(args.output_dir, 'model.onnx'),\n",
    "                      export_params=True,\n",
    "                      opset_version=10,\n",
    "                      do_constant_folding=True,\n",
    "                      verbose=True,\n",
    "                      input_names = ['input'],\n",
    "                      output_names = ['output'],\n",
    "                      dynamic_axes={'input' : {0 : 'batch_size'},\n",
    "                                    'output' : {0 : 'batch_size'}})\n",
    "    \n",
    "    # Check ONNX model\n",
    "    print('Checking ONNX model')\n",
    "    onnx_model = onnx.load(os.path.join(args.output_dir, 'model.onnx'))\n",
    "    onnx.checker.check_model(onnx_model)\n",
    "\n",
    "\n",
    "def parse_args():\n",
    "    parser = argparse.ArgumentParser(description='PyTorch Classification Training')\n",
    "    \n",
    "    # Training parameters\n",
    "    parser.add_argument('--data-path', dest='data_path', default='/tmp/dataset/',\n",
    "                        help='dataset path')\n",
    "    parser.add_argument('--dataset-name', dest='dataset_name', default=None,\n",
    "                        help='dataset name')\n",
    "    parser.add_argument('--model', dest='model', default='resnet18',\n",
    "                        help='model name')\n",
    "    parser.add_argument('--device', dest='device', default='cuda',\n",
    "                        help='device')\n",
    "    parser.add_argument('-b', '--batch-size', dest='batch_size', default=32, type=int,\n",
    "                        help='input batch size for training (default: 32)')\n",
    "    parser.add_argument('--epochs', dest='epochs', default=10, type=int, metavar='N',\n",
    "                        help='number of epochs to train (default: 10)')\n",
    "    parser.add_argument('-j', '--workers', dest='workers', default=16, type=int, metavar='N',\n",
    "                        help='number of data loading workers (default: 16)')\n",
    "    parser.add_argument('--lr', dest='lr', default=0.01, type=float,\n",
    "                        help='initial learning rate (default 0.01)')\n",
    "    parser.add_argument('--momentum', dest='momentum', default=0.9, type=float, metavar='M',\n",
    "                        help='SGD momentum (default 0.9)')\n",
    "    parser.add_argument('--wd', '--weight-decay', dest='weight_decay', default=1e-4, type=float, metavar='W',\n",
    "                        help='weight decay (default: 1e-4)')\n",
    "    parser.add_argument('--lr-step-size', dest='lr_step_size', default=30, type=int,\n",
    "                        help='decrease lr every step-size epochs')\n",
    "    parser.add_argument('--lr-gamma', dest='lr_gamma', default=0.1, type=float,\n",
    "                        help='decrease lr by a factor of lr-gamma')\n",
    "    parser.add_argument('--output-dir', dest='output_dir', default='outputs',\n",
    "                        help='path where to save')\n",
    "    parser.add_argument('--resume', dest='resume', default='',\n",
    "                        help='resume from checkpoint')\n",
    "    parser.add_argument('--start-epoch', dest='start_epoch', default=0, type=int, metavar='N',\n",
    "                        help='start epoch')\n",
    "    parser.add_argument('--test-only', dest='test_only', action='store_true',\n",
    "                        help='Only test the model')\n",
    "    parser.add_argument('--pretrained', dest='pretrained', action='store_true',\n",
    "                        help='Use pre-trained models from torchvision')\n",
    "    parser.add_argument('--finetuning', dest='finetuning', action='store_true',\n",
    "                        help='Finetune only last layer of CNN')\n",
    "    parser.add_argument('--seed', type=int, default=1, metavar='S',\n",
    "                        help='random seed (default: 1)')\n",
    "    \n",
    "    # Distributed training parameters\n",
    "    parser.add_argument('--world-size', dest='world_size', default=1, type=int,\n",
    "                        help='number of distributed processes')\n",
    "    parser.add_argument('--dist-backend', dest='dist_backend', default='nccl', type=str,\n",
    "                        help='distributed backend')\n",
    "    parser.add_argument('--dist-url', dest='dist_url', type=str,\n",
    "                        help='url used to set up distributed training')\n",
    "    parser.add_argument('--rank', dest='rank', default=-1, type=int,\n",
    "                        help='rank of the worker')\n",
    "    \n",
    "    args = parser.parse_args()\n",
    "\n",
    "    # Load data and checkpoint path from run\n",
    "    try:\n",
    "        args.data_path = run.input_datasets[args.dataset_name]\n",
    "        print('Loaded registered dataset')\n",
    "    except:\n",
    "        print('Could not find registered dataset. Loading default data path.')\n",
    "    try:\n",
    "        args.resume = run.input_datasets[args.resume]\n",
    "        print('Loaded checkpoint path')\n",
    "    except:\n",
    "        args.resume = None\n",
    "        print('Could not find checkpoint path')\n",
    "    \n",
    "    # set distributed mode\n",
    "    args.distributed = args.world_size >= 2\n",
    "    return args\n",
    "\n",
    "\n",
    "if __name__ == \"__main__\":\n",
    "    args = parse_args()\n",
    "    main(args=args)\n"
   ]
  },
  {
   "cell_type": "markdown",
   "metadata": {},
   "source": [
    "## 6. Create an experiment"
   ]
  },
  {
   "cell_type": "markdown",
   "metadata": {},
   "source": [
    "An *Experiment* is a logical container in an Azure ML Workspace that represents a collection of trials (individual model runs). It hosts run records which can include run metrics and output artifacts from your experiments."
   ]
  },
  {
   "cell_type": "markdown",
   "metadata": {},
   "source": [
    "**TASK**: Fill in the missing values below to create a new experiment in your workspace"
   ]
  },
  {
   "cell_type": "code",
   "execution_count": null,
   "metadata": {},
   "outputs": [],
   "source": [
    "from azureml.core import Experiment\n",
    "exp = Experiment(workspace=ws, name='ch3-pytorch_sample')"
   ]
  },
  {
   "cell_type": "markdown",
   "metadata": {},
   "source": [
    "## 7. Create Estimator"
   ]
  },
  {
   "cell_type": "markdown",
   "metadata": {},
   "source": [
    "An estimator object is used to submit the run. Azure Machine Learning has pre-configured estimators for common machine learning frameworks, as well as generic Estimator. Create a generic estimator for by specifying\n",
    "\n",
    "- The name of the estimator object, est\n",
    "- The directory that contains your scripts. All the files in this directory are uploaded into the cluster nodes for execution.\n",
    "- The training script name, train_titanic.py\n",
    "- The input Dataset for training\n",
    "- The compute target. In this case you will use the AmlCompute you created\n",
    "- The environment definition for the experiment"
   ]
  },
  {
   "cell_type": "markdown",
   "metadata": {},
   "source": [
    "**TASK**: Complete the estimator creation below.\n",
    "\n",
    "Hint: https://docs.microsoft.com/en-us/python/api/azureml-train-core/azureml.train.estimator.estimator?view=azure-ml-py"
   ]
  },
  {
   "cell_type": "code",
   "execution_count": null,
   "metadata": {},
   "outputs": [],
   "source": [
    "from azureml.train.dnn import PyTorch, Nccl\n",
    "\n",
    "# distributed run with Nccl backend\n",
    "script_params = {\n",
    "    '--dataset-name': 'hymenoptera_data',\n",
    "    '--dist-backend': 'nccl',\n",
    "    '--dist-url': '$AZ_BATCHAI_PYTORCH_INIT_METHOD',\n",
    "    '--rank': '$AZ_BATCHAI_TASK_INDEX',\n",
    "    '--world-size': 2,\n",
    "    '--epochs': 1,\n",
    "    '--pretrained': None,\n",
    "    '--finetuning': None\n",
    "}\n",
    "\n",
    "est = PyTorch(source_directory=TRAIN_FOLDER_NAME,\n",
    "              entry_script=TRAIN_FILE_NAME,\n",
    "              script_params=script_params,\n",
    "              compute_target=compute_target,\n",
    "              node_count=2,\n",
    "              inputs=[file_dataset.as_named_input('hymenoptera_data').as_mount('tmp/dataset')],\n",
    "              distributed_training=Nccl(),\n",
    "              use_gpu=True,\n",
    "              framework_version='1.3',\n",
    "              pip_packages=['azureml-dataprep[pandas,fuse]', 'onnx', 'Pillow==6.1'])"
   ]
  },
  {
   "cell_type": "code",
   "execution_count": null,
   "metadata": {},
   "outputs": [],
   "source": [
    "'''\n",
    "# distributed run with Gloo backend\n",
    "from azureml.train.dnn import PyTorch, Gloo\n",
    "\n",
    "script_params = {\n",
    "    '--dataset-name': 'hymenoptera_data',\n",
    "    '--dist-backend': 'nccl',\n",
    "    '--dist-url': '$AZ_BATCHAI_PYTORCH_INIT_METHOD',\n",
    "    '--rank': '$AZ_BATCHAI_TASK_INDEX',\n",
    "    '--world-size': 2,\n",
    "    '--epochs': 1,\n",
    "    '--pretrained': None,\n",
    "    '--finetuning': None\n",
    "}\n",
    "\n",
    "est = PyTorch(source_directory=TRAIN_FOLDER_NAME,\n",
    "              entry_script=TRAIN_FILE_NAME,\n",
    "              script_params=script_params,\n",
    "              compute_target=compute_target,\n",
    "              node_count=2,\n",
    "              inputs=[file_dataset.as_named_input('hymenoptera_data').as_mount('tmp/dataset')],\n",
    "              distributed_training=Gloo(),\n",
    "              use_gpu=True,\n",
    "              framework_version='1.3',\n",
    "              pip_packages=['azureml-dataprep[pandas,fuse]', 'onnx', 'Pillow==6.1'])\n",
    "'''"
   ]
  },
  {
   "cell_type": "code",
   "execution_count": null,
   "metadata": {},
   "outputs": [],
   "source": [
    "'''              \n",
    "# non distributed run\n",
    "from azureml.train.dnn import PyTorch\n",
    "\n",
    "script_params = {\n",
    "    '--dataset-name': 'hymenoptera_data',\n",
    "    '--world-size': 1,\n",
    "    '--epochs': 1,\n",
    "    '--pretrained': None,\n",
    "    '--finetuning': None\n",
    "}\n",
    "\n",
    "est = PyTorch(source_directory=TRAIN_FOLDER_NAME,\n",
    "              entry_script=TRAIN_FILE_NAME,\n",
    "              script_params=script_params,\n",
    "              compute_target=compute_target,\n",
    "              node_count=1,\n",
    "              inputs=[file_dataset.as_named_input('hymenoptera_data').as_mount('tmp/dataset')],\n",
    "              use_gpu=True,\n",
    "              framework_version='1.3',\n",
    "              pip_packages=['azureml-dataprep[pandas,fuse]', 'onnx', 'Pillow==6.1'])\n",
    "'''"
   ]
  },
  {
   "cell_type": "markdown",
   "metadata": {},
   "source": [
    "## 8. Submit the job"
   ]
  },
  {
   "cell_type": "markdown",
   "metadata": {},
   "source": [
    "Submit the estimator to the Azure ML experiment to kick off the execution."
   ]
  },
  {
   "cell_type": "markdown",
   "metadata": {},
   "source": [
    "**TASK**: Submit the experiment as a new run.\n",
    "\n",
    "Hint: https://docs.microsoft.com/en-us/python/api/azureml-core/azureml.core.experiment%28class%29?view=azure-ml-py#methods"
   ]
  },
  {
   "cell_type": "code",
   "execution_count": null,
   "metadata": {},
   "outputs": [],
   "source": [
    "script_params = {\n",
    "    '--dataset-name': 'hymenoptera_data',\n",
    "    '--world-size': 1,\n",
    "    '--epochs': 3,\n",
    "    '--pretrained': None,\n",
    "    '--finetuning': None\n",
    "}\n",
    "\n",
    "est = PyTorch(source_directory=TRAIN_FOLDER_NAME,\n",
    "              entry_script=TRAIN_FILE_NAME,\n",
    "              script_params=script_params,\n",
    "              compute_target=compute_target,\n",
    "              node_count=1,\n",
    "              inputs=[file_dataset.as_named_input('hymenoptera_data').as_mount('tmp/dataset')],\n",
    "              use_gpu=True,\n",
    "              framework_version='1.3',\n",
    "              pip_packages=['azureml-dataprep[pandas,fuse]', 'onnx', 'Pillow==6.1'])"
   ]
  },
  {
   "cell_type": "code",
   "execution_count": null,
   "metadata": {
    "scrolled": true
   },
   "outputs": [],
   "source": [
    "run = exp.submit(est)\n",
    "run.wait_for_completion(show_output=True, wait_post_processing=True)"
   ]
  },
  {
   "cell_type": "code",
   "execution_count": null,
   "metadata": {},
   "outputs": [],
   "source": [
    "run.cancel()"
   ]
  },
  {
   "cell_type": "markdown",
   "metadata": {},
   "source": [
    "You now have a model trained on a remote cluster. Retrieve all the metrics logged during the run, including the accuracy of the model:"
   ]
  },
  {
   "cell_type": "markdown",
   "metadata": {},
   "source": [
    "**TASK**: Retrieve the metrics of the run.\n",
    "\n",
    "Hint: https://docs.microsoft.com/en-us/python/api/azureml-core/azureml.core.run%28class%29?view=azure-ml-py#methods"
   ]
  },
  {
   "cell_type": "code",
   "execution_count": null,
   "metadata": {},
   "outputs": [],
   "source": [
    "run.get_metrics()"
   ]
  },
  {
   "cell_type": "code",
   "execution_count": null,
   "metadata": {},
   "outputs": [],
   "source": [
    "# register model from run\n",
    "from azureml.core import Model\n",
    "\n",
    "model = run.register_model(model_name='ch3-pytorch-model',\n",
    "                           model_path='outputs/model.onnx',\n",
    "                           model_framework=Model.Framework.ONNX,\n",
    "                           model_framework_version='1.3',\n",
    "                           datasets=[('Training dataset', file_dataset)],\n",
    "                           description='PyTorch hymenoptera classification.',\n",
    "                           tags={'area': 'hymenoptera_data', 'type': 'pytorch'})"
   ]
  },
  {
   "cell_type": "markdown",
   "metadata": {},
   "source": [
    "**BROKEN FROM HERE** and no-code Deployment should work again. "
   ]
  },
  {
   "cell_type": "markdown",
   "metadata": {},
   "source": [
    "## 9. Tune model hyperparameters"
   ]
  },
  {
   "cell_type": "markdown",
   "metadata": {},
   "source": [
    "Now that we've seen how to do a simple Scikit-learn training run using the SDK, let's see if we can further improve the accuracy of our model. We can optimize our model's hyperparameters using Azure Machine Learning's hyperparameter tuning capabilities.\n",
    "\n",
    "First, we will define the hyperparameter space to sweep over. Let's tune the `kernel` and `penalty` parameters. In this example we will use random sampling to try different configuration sets of hyperparameters to maximize our primary metric, `Accuracy`."
   ]
  },
  {
   "cell_type": "code",
   "execution_count": null,
   "metadata": {},
   "outputs": [],
   "source": [
    "from azureml.train.hyperdrive.runconfig import HyperDriveConfig\n",
    "from azureml.train.hyperdrive.sampling import RandomParameterSampling\n",
    "from azureml.train.hyperdrive.run import PrimaryMetricGoal\n",
    "from azureml.train.hyperdrive.parameter_expressions import choice, uniform, loguniform\n",
    "from azureml.train.hyperdrive.policy import MedianStoppingPolicy\n",
    "\n",
    "# distributed run with Nccl backend\n",
    "script_params = {\n",
    "    '--dataset-name': 'hymenoptera_data',\n",
    "    '--dist-backend': 'nccl',\n",
    "    '--dist-url': '$AZ_BATCHAI_PYTORCH_INIT_METHOD',\n",
    "    '--rank': '$AZ_BATCHAI_TASK_INDEX',\n",
    "    '--world-size': 2,\n",
    "    '--epochs': 1,\n",
    "    '--pretrained': None,\n",
    "    '--finetuning': None\n",
    "}\n",
    "\n",
    "est = PyTorch(source_directory=TRAIN_FOLDER_NAME,\n",
    "              entry_script=TRAIN_FILE_NAME,\n",
    "              script_params=script_params,\n",
    "              compute_target=compute_target,\n",
    "              node_count=2,\n",
    "              inputs=[file_dataset.as_named_input('hymenoptera_data').as_mount('tmp/dataset')],\n",
    "              distributed_training=Nccl(),\n",
    "              use_gpu=True,\n",
    "              framework_version='1.3',\n",
    "              pip_packages=['azureml-dataprep[pandas,fuse]', 'onnx', 'Pillow==6.1'])\n",
    "\n",
    "param_sampling = RandomParameterSampling({\n",
    "    '--lr': loguniform(0.0005, 0.01),\n",
    "    '--momentum': uniform(0.45, 0.55)\n",
    "    })\n",
    "\n",
    "# '--model': choice('resnet18', 'vgg11_bn', 'mobilenet_v2', 'shufflenet_v2_x0_5')\n",
    "\n",
    "hyperdrive_run_config = HyperDriveConfig(estimator=est,\n",
    "                                         hyperparameter_sampling=param_sampling, \n",
    "                                         primary_metric_name='val_acc1_avg',\n",
    "                                         primary_metric_goal=PrimaryMetricGoal.MAXIMIZE,\n",
    "                                         max_total_runs=2,\n",
    "                                         max_concurrent_runs=2,\n",
    "                                         policy=MedianStoppingPolicy())"
   ]
  },
  {
   "cell_type": "markdown",
   "metadata": {},
   "source": [
    "Finally, lauch the hyperparameter tuning job."
   ]
  },
  {
   "cell_type": "markdown",
   "metadata": {},
   "source": [
    "**TASK**: Submit the hyperdrive run\n",
    "\n",
    "Hint: Is is very similar to the experiment submission before"
   ]
  },
  {
   "cell_type": "code",
   "execution_count": null,
   "metadata": {
    "scrolled": true
   },
   "outputs": [],
   "source": [
    "hyperdrive_run = exp.submit(hyperdrive_run_config)\n",
    "hyperdrive_run.wait_for_completion(show_output=True, wait_post_processing=True)"
   ]
  },
  {
   "cell_type": "markdown",
   "metadata": {},
   "source": [
    "Often times, finding the best hyperparameter values for your model can be an iterative process, needing multiple tuning runs that learn from previous hyperparameter tuning runs. Reusing knowledge from these previous runs will accelerate the hyperparameter tuning process, thereby reducing the cost of tuning the model and will potentially improve the primary metric of the resulting model. When warm starting a hyperparameter tuning experiment with Bayesian sampling, trials from the previous run will be used as prior knowledge to intelligently pick new samples, so as to improve the primary metric. Additionally, when using Random or Grid sampling, any early termination decisions will leverage metrics from the previous runs to determine poorly performing training runs. \n",
    "\n",
    "Azure Machine Learning allows you to warm start your hyperparameter tuning run by leveraging knowledge from up to 5 previously completed hyperparameter tuning parent runs. \n",
    "\n",
    "Additionally, there might be occasions when individual training runs of a hyperparameter tuning experiment are cancelled due to budget constraints or fail due to other reasons. It is now possible to resume such individual training runs from the last checkpoint (assuming your training script handles checkpoints). Resuming an individual training run will use the same hyperparameter configuration and mount the storage used for that run. The training script should accept the \"--resume-from\" argument, which contains the checkpoint or model files from which to resume the training run. You can also resume individual runs as part of an experiment that spends additional budget on hyperparameter tuning. Any additional budget, after resuming the specified training runs is used for exploring additional configurations.\n",
    "\n",
    "For more information on warm starting and resuming hyperparameter tuning runs, please refer to the [Hyperparameter Tuning for Azure Machine Learning documentation](https://docs.microsoft.com/en-us/azure/machine-learning/service/how-to-tune-hyperparameters) "
   ]
  },
  {
   "cell_type": "markdown",
   "metadata": {},
   "source": [
    "When all jobs finish, we can find out the one that has the highest accuracy."
   ]
  },
  {
   "cell_type": "markdown",
   "metadata": {},
   "source": [
    "**TASK**: Get the best run from the hyperdrive experiment\n",
    "\n",
    "Hint: https://docs.microsoft.com/en-us/python/api/azureml-train-core/azureml.train.hyperdrive.hyperdriverun"
   ]
  },
  {
   "cell_type": "code",
   "execution_count": null,
   "metadata": {},
   "outputs": [],
   "source": [
    "best_run = hyperdrive_run.get_best_run_by_primary_metric()\n",
    "print(best_run.get_details()['runDefinition']['arguments'])"
   ]
  },
  {
   "cell_type": "markdown",
   "metadata": {},
   "source": [
    "## 10. Register model"
   ]
  },
  {
   "cell_type": "markdown",
   "metadata": {},
   "source": [
    "The last step in the training script wrote the file `model.pkl` in a directory named `outputs` in the VM of the cluster where the job is executed. `outputs` is a special directory in that all content in this  directory is automatically uploaded to your workspace.  This content appears in the run record in the experiment under your workspace. Hence, the model file is now also available in your workspace.\n",
    "\n",
    "You can see files associated with that run."
   ]
  },
  {
   "cell_type": "markdown",
   "metadata": {},
   "source": [
    "**TASK**: Get all the file names associated with the best run.\n",
    "\n",
    "Hint: https://docs.microsoft.com/en-us/python/api/azureml-core/azureml.core.run%28class%29"
   ]
  },
  {
   "cell_type": "code",
   "execution_count": null,
   "metadata": {},
   "outputs": [],
   "source": [
    "best_run.get_file_names()"
   ]
  },
  {
   "cell_type": "markdown",
   "metadata": {},
   "source": [
    "Register the model in the workspace so that you (or other collaborators) can later query, examine, and deploy this model."
   ]
  },
  {
   "cell_type": "markdown",
   "metadata": {},
   "source": [
    "**TASK**: Fill in the missing values below to register the model"
   ]
  },
  {
   "cell_type": "code",
   "execution_count": null,
   "metadata": {},
   "outputs": [],
   "source": [
    "from azureml.core import Model\n",
    "from azureml.core.resource_configuration import ResourceConfiguration\n",
    "\n",
    "model = best_run.register_model(model_name='ch3-pytorch-model',\n",
    "                                model_path='outputs/model.onnx',\n",
    "                                model_framework=Model.Framework.ONNX,\n",
    "                                model_framework_version='1.3',\n",
    "                                datasets=[('Training dataset', file_dataset)],\n",
    "                                description='PyTorch hymenoptera classification.',\n",
    "                                tags={'area': 'hymenoptera_data', 'type': 'pytorch'})\n",
    "\n",
    "print(model.name, model.id, model.version, sep='\\n')"
   ]
  },
  {
   "cell_type": "markdown",
   "metadata": {},
   "source": [
    "Now, your model is ready for deployment."
   ]
  },
  {
   "cell_type": "markdown",
   "metadata": {},
   "source": [
    "## 11. Deployment"
   ]
  },
  {
   "cell_type": "markdown",
   "metadata": {},
   "source": [
    "No-code model deployment is currently in preview and supports various frameworks and model types including Tensorflow SavedModel format, ONNX models and Scikit-learn models. No code model deployment is supported for all built-in scikit-learn model types.\n",
    "\n",
    "The deployment will take a few minutes and will take place on an Azure Container Instance."
   ]
  },
  {
   "cell_type": "markdown",
   "metadata": {},
   "source": [
    "**TASK**: Fill in the missing values to deploy the model as a no-code webservice"
   ]
  },
  {
   "cell_type": "code",
   "execution_count": null,
   "metadata": {
    "scrolled": true
   },
   "outputs": [],
   "source": [
    "service_no_code = Model.deploy(workspace=ws,\n",
    "                               name='ch3-pytorch-service',\n",
    "                               models=[model])\n",
    "service_no_code.wait_for_deployment(show_output=True)"
   ]
  },
  {
   "cell_type": "code",
   "execution_count": null,
   "metadata": {},
   "outputs": [],
   "source": [
    "# If deployment fails, then retry with:\n",
    "#service_no_code.update(models=[model])"
   ]
  },
  {
   "cell_type": "markdown",
   "metadata": {},
   "source": [
    "**TASK**: Get the logs for the web service\n",
    "\n",
    "Hint: https://docs.microsoft.com/en-us/python/api/azureml-core/azureml.core.webservice%28class%29"
   ]
  },
  {
   "cell_type": "code",
   "execution_count": null,
   "metadata": {
    "scrolled": false
   },
   "outputs": [],
   "source": [
    "#service_no_code.get_logs()"
   ]
  },
  {
   "cell_type": "markdown",
   "metadata": {},
   "source": [
    "Convert this Webservice object into a JSON serialized dictionary, which lists all the details of the webservice."
   ]
  },
  {
   "cell_type": "code",
   "execution_count": null,
   "metadata": {
    "scrolled": true
   },
   "outputs": [],
   "source": [
    "service_no_code.serialize()"
   ]
  },
  {
   "cell_type": "markdown",
   "metadata": {},
   "source": [
    "## 12. Test Service"
   ]
  },
  {
   "cell_type": "markdown",
   "metadata": {},
   "source": [
    "The following code is an example of a Python client that can be used with the container."
   ]
  },
  {
   "cell_type": "markdown",
   "metadata": {},
   "source": [
    "**TASK**: Fill in the missing part to execute the request against the web service\n",
    "\n",
    "Hint: Look in the same class as for the previous hint"
   ]
  },
  {
   "cell_type": "code",
   "execution_count": null,
   "metadata": {},
   "outputs": [],
   "source": [
    "import requests, os\n",
    "\n",
    "headers = {'Content-Type': 'application/json', 'Accept': 'application/json'}\n",
    "\n",
    "if service_no_code.auth_enabled:\n",
    "    headers['Authorization'] = 'Bearer '+ service_no_code.get_keys()[0]\n",
    "elif service_no_code.token_auth_enabled:\n",
    "    headers['Authorization'] = 'Bearer '+ service_no_code.get_token()[0]\n",
    "\n",
    "scoring_uri = service_no_code.scoring_uri\n",
    "print(scoring_uri)\n",
    "with open(os.path.join('test_deployment', 'onnx-mnist-predict-input.json'), 'rb') as data_file:\n",
    "    response = requests.post(\n",
    "        scoring_uri, data=data_file, headers=headers)\n",
    "print(response.status_code)\n",
    "print(response.elapsed)\n",
    "print(response.json())"
   ]
  },
  {
   "cell_type": "markdown",
   "metadata": {},
   "source": [
    "Delete the service to save cost."
   ]
  },
  {
   "cell_type": "code",
   "execution_count": null,
   "metadata": {},
   "outputs": [],
   "source": [
    "service_no_code.delete()"
   ]
  },
  {
   "cell_type": "code",
   "execution_count": null,
   "metadata": {},
   "outputs": [],
   "source": []
  }
 ],
 "metadata": {
  "kernelspec": {
   "display_name": "Python 3",
   "language": "python",
   "name": "python3"
  },
  "language_info": {
   "codemirror_mode": {
    "name": "ipython",
    "version": 3
   },
   "file_extension": ".py",
   "mimetype": "text/x-python",
   "name": "python",
   "nbconvert_exporter": "python",
   "pygments_lexer": "ipython3",
   "version": "3.7.4"
  }
 },
 "nbformat": 4,
 "nbformat_minor": 2
}
