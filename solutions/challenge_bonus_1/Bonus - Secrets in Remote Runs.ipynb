{
 "cells": [
  {
   "cell_type": "markdown",
   "metadata": {},
   "source": [
    "# Bonus: Secrets in Remote Runs"
   ]
  },
  {
   "cell_type": "code",
   "execution_count": null,
   "metadata": {},
   "outputs": [],
   "source": [
    "from azureml.core import Workspace\n",
    "\n",
    "ws = Workspace.from_config()"
   ]
  },
  {
   "cell_type": "code",
   "execution_count": null,
   "metadata": {
    "tags": []
   },
   "outputs": [],
   "source": [
    "print(\"Workspace name: \" + ws.name, \n",
    "      \"Azure region: \" + ws.location, \n",
    "      \"Subscription id: \" + ws.subscription_id, \n",
    "      \"Resource group: \" + ws.resource_group, sep = \"\\n\")"
   ]
  },
  {
   "cell_type": "markdown",
   "metadata": {},
   "source": [
    "Sometimes, you may have to pass a secret to a remote run, for example username and password to authenticate against external data source.\n",
    "\n",
    "Azure ML SDK enables this use case through Key Vault associated with your workspace. The workflow for adding a secret is following.\n",
    "\n",
    "On local computer:\n",
    "\n",
    " 1. Read in a local secret, for example from environment variable or user input. To keep them secret, do not insert secret values into code as hard-coded strings.\n",
    " 2. Obtain a reference to the keyvault\n",
    " 3. Add the secret name-value pair in the key vault.\n",
    " \n",
    "The secret is then available for remote runs as shown further below.\n",
    "\n",
    "__Note__: The _azureml.core.keyvault.Keyvault_ is different from _azure.keyvault_ library. It is intended as simplified wrapper for setting, getting and listing user secrets in Workspace Key Vault."
   ]
  },
  {
   "cell_type": "code",
   "execution_count": null,
   "metadata": {},
   "outputs": [],
   "source": [
    "import os, uuid\n",
    "\n",
    "# Define a secret locally --> Use random UUID as a substitute for real secret.\n",
    "local_secret = os.environ.get(\n",
    "    key=\"LOCAL_SECRET\",\n",
    "    default = str(uuid.uuid4())\n",
    ")"
   ]
  },
  {
   "cell_type": "code",
   "execution_count": null,
   "metadata": {},
   "outputs": [],
   "source": [
    "# Get default workspace key vault\n",
    "keyvault = ws.get_default_keyvault()\n",
    "\n",
    "# Set secret in key vault\n",
    "keyvault.set_secret(\n",
    "    name=\"secret-name\",\n",
    "    value=local_secret\n",
    ")"
   ]
  },
  {
   "cell_type": "markdown",
   "metadata": {},
   "source": [
    "The _set_secret_ method adds a new secret if one doesn't exist, or updates an existing one with new value.\n",
    "You can list secret names you've added. This method doesn't return the values of the secrets."
   ]
  },
  {
   "cell_type": "code",
   "execution_count": null,
   "metadata": {},
   "outputs": [],
   "source": [
    "keyvault.list_secrets()"
   ]
  },
  {
   "cell_type": "markdown",
   "metadata": {},
   "source": [
    "You can retrieve the value of the secret, and validate that it matches the original value. \n",
    "\n",
    "__Note__: This method returns the secret value. Take care not to write the the secret value to output."
   ]
  },
  {
   "cell_type": "code",
   "execution_count": null,
   "metadata": {},
   "outputs": [],
   "source": [
    "retrieved_secret = keyvault.get_secret(name=\"secret-name\")\n",
    "local_secret == retrieved_secret"
   ]
  },
  {
   "cell_type": "markdown",
   "metadata": {},
   "source": [
    "In submitted runs on local and remote compute, you can use the get_secret method of Run instance to get the secret value from Key Vault. \n",
    "\n",
    "The method gives you a simple shortcut: the Run instance is aware of its Workspace and Keyvault, so it can directly obtain the secret without you having to instantiate the Workspace and Keyvault within remote run.\n",
    "\n",
    "__Note__: This method returns the secret value. Take care not to write the secret to output.\n",
    "\n",
    "For example, let's create a simple script _get_secret.py_ that gets the secret we set earlier. In an actual appication, you would use the secret, for example to access a database or other password-protected resource."
   ]
  },
  {
   "source": [
    "Let's first create a folder for the Python script."
   ],
   "cell_type": "markdown",
   "metadata": {}
  },
  {
   "cell_type": "code",
   "execution_count": null,
   "metadata": {},
   "outputs": [],
   "source": [
    "TRAIN_FOLDER_NAME = \"train\"\n",
    "TRAIN_FILE_NAME = \"train.py\""
   ]
  },
  {
   "cell_type": "code",
   "execution_count": null,
   "metadata": {},
   "outputs": [],
   "source": [
    "import os\n",
    "\n",
    "os.makedirs(\n",
    "    name=os.path.join(\".\", TRAIN_FOLDER_NAME),\n",
    "    exist_ok=True\n",
    ")"
   ]
  },
  {
   "source": [
    "Now, let's create a training script."
   ],
   "cell_type": "markdown",
   "metadata": {}
  },
  {
   "source": [
    "**TASK**: There is some code missing below. Please complete the script.\n",
    "\n",
    "Hint: https://docs.microsoft.com/en-us/python/api/azureml-core/azureml.core.keyvault(class)?view=azure-ml-py"
   ],
   "cell_type": "markdown",
   "metadata": {}
  },
  {
   "cell_type": "code",
   "execution_count": null,
   "metadata": {
    "tags": []
   },
   "outputs": [],
   "source": [
    "%%writefile $TRAIN_FOLDER_NAME/$TRAIN_FILE_NAME\n",
    "\n",
    "from azureml.core import Run\n",
    "\n",
    "\n",
    "aml_run = Run.get_context()\n",
    "\n",
    "\n",
    "def main():\n",
    "    # Get secret value\n",
    "    secret_value = aml_run.get_secret(name=\"secret-name\")\n",
    "    print(\"Got secret value {} , but don't write it out!\".format(len(secret_value) * \"*\"))\n",
    "\n",
    "\n",
    "if __name__ == \"__main__\":\n",
    "    main()"
   ]
  },
  {
   "cell_type": "markdown",
   "metadata": {},
   "source": [
    "Then, submit the script as a `Estimator`, and find the obfuscated secret value in run output. You can use the same approach to other kinds of runs, such as Estimator ones."
   ]
  },
  {
   "source": [
    "**TASK**: Fill in the missing values\n",
    "\n",
    "Hint: https://docs.microsoft.com/en-us/python/api/azureml-train-core/azureml.train.estimator.estimator?view=azure-ml-py"
   ],
   "cell_type": "markdown",
   "metadata": {}
  },
  {
   "cell_type": "code",
   "execution_count": null,
   "metadata": {},
   "outputs": [],
   "source": [
    "from azureml.train.estimator import Estimator\n",
    "\n",
    "estimator = Estimator(\n",
    "    source_directory=TRAIN_FOLDER_NAME,\n",
    "    entry_script=TRAIN_FILE_NAME,\n",
    "    compute_target=\"local\"\n",
    ")"
   ]
  },
  {
   "source": [
    "Let's create an experiment to submit the `Estimator`."
   ],
   "cell_type": "markdown",
   "metadata": {}
  },
  {
   "source": [
    "**TASK:** Create an experiment, so that we can submit the estimator afterwards.\n",
    "\n",
    "Hint: https://docs.microsoft.com/en-us/python/api/azureml-core/azureml.core.experiment(class)?view=azure-ml-py"
   ],
   "cell_type": "markdown",
   "metadata": {}
  },
  {
   "cell_type": "code",
   "execution_count": null,
   "metadata": {},
   "outputs": [],
   "source": [
    "from azureml.core import Experiment\n",
    "\n",
    "experiment = Experiment(\n",
    "    workspace=ws,\n",
    "    name=\"bonus-secrets\"\n",
    ")"
   ]
  },
  {
   "source": [
    "Now we are ready to submit our experiment with the configuration that we set above. \n",
    "You can follow the output here in the notebook or also look at the run in the portal UI as before.\n",
    "\n",
    "You will note that one of the first steps is to pull the docker base images and build the training container based on it.\n",
    "As our \"training\" script does not really do any training here, the setup process takes much longer than the following execution itself."
   ],
   "cell_type": "markdown",
   "metadata": {}
  },
  {
   "source": [
    "**Task:** Submit the estimator.\n",
    "\n",
    "Hint: https://docs.microsoft.com/en-us/python/api/azureml-core/azureml.core.experiment(class)?view=azure-ml-py"
   ],
   "cell_type": "markdown",
   "metadata": {}
  },
  {
   "cell_type": "code",
   "execution_count": null,
   "metadata": {},
   "outputs": [],
   "source": [
    "run = experiment.submit(\n",
    "    config=estimator,\n",
    "    tags={}\n",
    ")\n",
    "run"
   ]
  },
  {
   "cell_type": "code",
   "execution_count": null,
   "metadata": {
    "tags": []
   },
   "outputs": [],
   "source": [
    "run.wait_for_completion(\n",
    "    show_output=True,\n",
    "    wait_post_processing=True\n",
    ")"
   ]
  },
  {
   "cell_type": "markdown",
   "metadata": {},
   "source": [
    "Furthermore, you can set and get multiple secrets using set_secrets and get_secrets methods."
   ]
  },
  {
   "source": [
    "## 9. Summary\n",
    "\n",
    "This showed you how you can use secrets in local and remote runs without provoding them as an argument to the Python script.  "
   ],
   "cell_type": "markdown",
   "metadata": {}
  },
  {
   "source": [
    "## 10. Bonus\n",
    "\n",
    "In case you still have time left, here are a few more optional things you can try to implement in the notebook above:\n",
    "\n",
    "- Set multiple and obtain multiple secrets at once.\n",
    "- Load a set of secrets, wehereas some of them are not available.\n",
    "- Delete the secrets you defined in the Key Vault."
   ],
   "cell_type": "markdown",
   "metadata": {}
  }
 ],
 "metadata": {
  "kernelspec": {
   "display_name": "Python 3",
   "language": "python",
   "name": "python3"
  },
  "language_info": {
   "codemirror_mode": {
    "name": "ipython",
    "version": 3
   },
   "file_extension": ".py",
   "mimetype": "text/x-python",
   "name": "python",
   "nbconvert_exporter": "python",
   "pygments_lexer": "ipython3",
   "version": "3.7.2-final"
  }
 },
 "nbformat": 4,
 "nbformat_minor": 2
}